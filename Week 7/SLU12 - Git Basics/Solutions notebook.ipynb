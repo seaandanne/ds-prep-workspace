{
 "cells": [
  {
   "cell_type": "markdown",
   "metadata": {
    "nbgrader": {
     "grade": false,
     "grade_id": "cell-c11e7dc9e72b1d3d",
     "locked": true,
     "schema_version": 3,
     "solution": false,
     "task": false
    }
   },
   "source": [
    "# SLU12 - Git Basics - Exercise notebook"
   ]
  },
  {
   "cell_type": "markdown",
   "metadata": {
    "nbgrader": {
     "grade": false,
     "grade_id": "cell-7b43bad71ef158c7",
     "locked": true,
     "schema_version": 3,
     "solution": false,
     "task": false
    }
   },
   "source": [
    "Start by importing the following"
   ]
  },
  {
   "cell_type": "code",
   "execution_count": 8,
   "metadata": {
    "nbgrader": {
     "grade": false,
     "grade_id": "cell-ea3f5b5bb83debe5",
     "locked": true,
     "schema_version": 3,
     "solution": false,
     "task": false
    }
   },
   "outputs": [],
   "source": [
    "# Just for evaluating the results.\n",
    "import hashlib"
   ]
  },
  {
   "cell_type": "markdown",
   "metadata": {
    "nbgrader": {
     "grade": false,
     "grade_id": "cell-9c1efc0560d7707e",
     "locked": true,
     "schema_version": 3,
     "solution": false,
     "task": false
    }
   },
   "source": [
    "# Exercise 1: Version Control\n",
    "\n",
    "What is one of the most important reasons why version control software are used in the industry?\n",
    "- Option A: It is easier than sharing code by e-mail\n",
    "- Option B: It allows several people to work on the same codebase in a concurrent way and allows them to resolve conflicts if they occur\n",
    "- Option C: It allows people to create public repositories and share their code with everyone"
   ]
  },
  {
   "cell_type": "code",
   "execution_count": 23,
   "metadata": {
    "nbgrader": {
     "grade": false,
     "grade_id": "cell-71ed0e811c050c93",
     "locked": false,
     "schema_version": 3,
     "solution": true,
     "task": false
    }
   },
   "outputs": [],
   "source": [
    "# The task is:\n",
    "# Assign the option value of the option that you think is correct to the variable exercise_1.\n",
    "# For example, if you think that option A is correct, do: exercise_1 = \"A\"\n",
    "\n",
    "### BEGIN SOLUTION\n",
    "exercise_1 = \"B\"\n",
    "### END SOLUTION\n",
    "# exercise_1 ="
   ]
  },
  {
   "cell_type": "code",
   "execution_count": 24,
   "metadata": {
    "nbgrader": {
     "grade": true,
     "grade_id": "cell-ac103768b1b222f7",
     "locked": true,
     "points": 0,
     "schema_version": 3,
     "solution": false,
     "task": false
    }
   },
   "outputs": [],
   "source": [
    "exercise_1_hash = 'df7e70e5021544f4834bbee64a9e3789febc4be81470df629cad6ddb03320a5c'\n",
    "assert isinstance(exercise_1,str), \"The variable should be a string.\"\n",
    "assert exercise_1_hash == hashlib.sha256(bytes(exercise_1, encoding='utf8')).hexdigest(), \"The value of the option is incorrect.\""
   ]
  },
  {
   "cell_type": "markdown",
   "metadata": {
    "nbgrader": {
     "grade": false,
     "grade_id": "cell-4e42a1f02530444b",
     "locked": true,
     "schema_version": 3,
     "solution": false,
     "task": false
    }
   },
   "source": [
    "# Exercise 2: Staging Area\n",
    "\n",
    "What is the main advantage of using the staging area?\n",
    "\n",
    "- Option A: It allows us to make atomic and logical commits\n",
    "- Option B: It allows us to separate the workspace from the local repository\n",
    "- Option C: It has a copy of the remote repository"
   ]
  },
  {
   "cell_type": "code",
   "execution_count": 25,
   "metadata": {
    "nbgrader": {
     "grade": false,
     "grade_id": "cell-ec8605dfc3b02035",
     "locked": false,
     "schema_version": 3,
     "solution": true,
     "task": false
    }
   },
   "outputs": [],
   "source": [
    "# The task is:\n",
    "# Assign the option value of the option that you think is correct to the variable exercise_2.\n",
    "\n",
    "### BEGIN SOLUTION\n",
    "exercise_2 = \"A\"\n",
    "### END SOLUTION\n",
    "# exercise_2 ="
   ]
  },
  {
   "cell_type": "code",
   "execution_count": 26,
   "metadata": {
    "nbgrader": {
     "grade": true,
     "grade_id": "cell-6ee0d9ea58491a71",
     "locked": true,
     "points": 0,
     "schema_version": 3,
     "solution": false,
     "task": false
    }
   },
   "outputs": [],
   "source": [
    "exercise_2_hash = '559aead08264d5795d3909718cdd05abd49572e84fe55590eef31a88a08fdffd'\n",
    "assert isinstance(exercise_2,str), \"The variable should be a string.\"\n",
    "assert exercise_2_hash == hashlib.sha256(bytes(exercise_2, encoding='utf8')).hexdigest(), \"The value of the option is incorrect.\""
   ]
  },
  {
   "cell_type": "markdown",
   "metadata": {
    "nbgrader": {
     "grade": false,
     "grade_id": "cell-0e79fd38ed1d622b",
     "locked": true,
     "schema_version": 3,
     "solution": false,
     "task": false
    }
   },
   "source": [
    "# Exercise 3: Git Add\n",
    "\n",
    "What is the correct command to use when you want to stage all the changes in the workspace?\n",
    "\n",
    "- Option A: `git add --all`\n",
    "- Option B: `git add .`\n",
    "- Option C: `git add workspace`"
   ]
  },
  {
   "cell_type": "code",
   "execution_count": 27,
   "metadata": {
    "nbgrader": {
     "grade": false,
     "grade_id": "cell-b6d48cc3f1b95e0d",
     "locked": false,
     "schema_version": 3,
     "solution": true,
     "task": false
    }
   },
   "outputs": [],
   "source": [
    "# The task is:\n",
    "# Assign the option value of the option that you think is correct to the variable exercise_3.\n",
    "\n",
    "### BEGIN SOLUTION\n",
    "exercise_3 = \"B\"\n",
    "### END SOLUTION\n",
    "# exercise_3 ="
   ]
  },
  {
   "cell_type": "code",
   "execution_count": 30,
   "metadata": {
    "nbgrader": {
     "grade": true,
     "grade_id": "cell-15ef0dc5325e7dd6",
     "locked": true,
     "points": 0,
     "schema_version": 3,
     "solution": false,
     "task": false
    }
   },
   "outputs": [],
   "source": [
    "exercise_3_hash = 'df7e70e5021544f4834bbee64a9e3789febc4be81470df629cad6ddb03320a5c'\n",
    "assert isinstance(exercise_3,str), \"The variable should be a string.\"\n",
    "assert exercise_3_hash == hashlib.sha256(bytes(exercise_3, encoding='utf8')).hexdigest(), \"The value of the option is incorrect.\""
   ]
  },
  {
   "cell_type": "markdown",
   "metadata": {},
   "source": [
    "# Exercise 4: Git Status\n",
    "\n",
    "You have 10 files in a repository. Of those 10, you've already committed in the past 6 of them. Of those 6, you have now staged 2 files. How many files are not being tracked and how many files are not staged?\n",
    "\n",
    "- Option A: 10 and 6\n",
    "- Option B: 4 and 6\n",
    "- Option C: 4 and 4"
   ]
  },
  {
   "cell_type": "code",
   "execution_count": 31,
   "metadata": {
    "nbgrader": {
     "grade": false,
     "grade_id": "cell-5c3ec2bc3145164e",
     "locked": false,
     "schema_version": 3,
     "solution": true,
     "task": false
    }
   },
   "outputs": [],
   "source": [
    "# The task is:\n",
    "# Assign the option value of the option that you think is correct to the variable exercise_4.\n",
    "\n",
    "### BEGIN SOLUTION\n",
    "exercise_4 = \"C\"\n",
    "### END SOLUTION\n",
    "# exercise_4 ="
   ]
  },
  {
   "cell_type": "code",
   "execution_count": 34,
   "metadata": {
    "nbgrader": {
     "grade": true,
     "grade_id": "cell-82affb167d780260",
     "locked": true,
     "points": 0,
     "schema_version": 3,
     "solution": false,
     "task": false
    }
   },
   "outputs": [],
   "source": [
    "exercise_4_hash = '6b23c0d5f35d1b11f9b683f0b0a617355deb11277d91ae091d399c655b87940d'\n",
    "assert isinstance(exercise_4,str), \"The variable should be a string.\"\n",
    "assert exercise_4_hash == hashlib.sha256(bytes(exercise_4, encoding='utf8')).hexdigest(), \"The value of the option is incorrect.\""
   ]
  },
  {
   "cell_type": "markdown",
   "metadata": {},
   "source": [
    "# Exercise 5: Git Diff\n",
    "\n",
    "After you run git diff on a file, the chuck header is @@ -1,4 +1,7 @@. Given that the number of lines removed is 2, what can you say about the number of lines added?\n",
    "\n",
    "- Option A: It is a number between 5 and 7\n",
    "- Option B: It is a number between 1 and 7\n",
    "- Option C: It is a number between 1 and 5 "
   ]
  },
  {
   "cell_type": "code",
   "execution_count": 36,
   "metadata": {
    "nbgrader": {
     "grade": false,
     "grade_id": "cell-8a385c025ec6dafa",
     "locked": false,
     "schema_version": 3,
     "solution": true,
     "task": false
    }
   },
   "outputs": [],
   "source": [
    "# The task is:\n",
    "# Assign the option value of the option that you think is correct to the variable exercise_5.\n",
    "\n",
    "### BEGIN SOLUTION\n",
    "exercise_5 = \"C\"\n",
    "### END SOLUTION\n",
    "# exercise_5 ="
   ]
  },
  {
   "cell_type": "code",
   "execution_count": 37,
   "metadata": {
    "nbgrader": {
     "grade": true,
     "grade_id": "cell-e400aca09757cc0f",
     "locked": true,
     "points": 0,
     "schema_version": 3,
     "solution": false,
     "task": false
    }
   },
   "outputs": [],
   "source": [
    "exercise_5_hash = '6b23c0d5f35d1b11f9b683f0b0a617355deb11277d91ae091d399c655b87940d'\n",
    "assert isinstance(exercise_5,str), \"The variable should be a string.\"\n",
    "assert exercise_5_hash == hashlib.sha256(bytes(exercise_5, encoding='utf8')).hexdigest(), \"The value of the option is incorrect.\""
   ]
  },
  {
   "cell_type": "markdown",
   "metadata": {
    "nbgrader": {
     "grade": false,
     "grade_id": "cell-7badf1f29e3d6e57",
     "locked": true,
     "schema_version": 3,
     "solution": false,
     "task": false
    }
   },
   "source": [
    "# Exercise 6: Git Log\n",
    "\n",
    "You want to see the last 5 commits on your repo. What command should you run?\n",
    "\n",
    "- Option A: `git log --last 5`\n",
    "- Option B: `git log -n 5`\n",
    "- Option C: `git log 5`"
   ]
  },
  {
   "cell_type": "code",
   "execution_count": 38,
   "metadata": {
    "nbgrader": {
     "grade": false,
     "grade_id": "cell-989115f1ea143a4d",
     "locked": false,
     "schema_version": 3,
     "solution": true,
     "task": false
    }
   },
   "outputs": [],
   "source": [
    "# The task is:\n",
    "# Assign the option value of the option that you think is correct to the variable exercise_6.\n",
    "\n",
    "### BEGIN SOLUTION\n",
    "exercise_6 = \"B\"\n",
    "### END SOLUTION\n",
    "# exercise_6 ="
   ]
  },
  {
   "cell_type": "code",
   "execution_count": 41,
   "metadata": {
    "nbgrader": {
     "grade": true,
     "grade_id": "cell-094ec2cd7745cd9b",
     "locked": true,
     "points": 0,
     "schema_version": 3,
     "solution": false,
     "task": false
    }
   },
   "outputs": [],
   "source": [
    "exercise_6_hash = 'df7e70e5021544f4834bbee64a9e3789febc4be81470df629cad6ddb03320a5c'\n",
    "assert isinstance(exercise_6,str), \"The variable should be a string.\"\n",
    "assert exercise_6_hash == hashlib.sha256(bytes(exercise_6, encoding='utf8')).hexdigest(), \"The value of the option is incorrect.\""
   ]
  },
  {
   "cell_type": "markdown",
   "metadata": {
    "nbgrader": {
     "grade": false,
     "grade_id": "cell-7bd60734b67a1d24",
     "locked": true,
     "schema_version": 3,
     "solution": false,
     "task": false
    }
   },
   "source": [
    "# Exercise 7: .gitignore\n",
    "\n",
    "You do not want to commit any .md file except for the README. What two lines should you include in your .gitignore?\n",
    "\n",
    "- Option A: *.md and !README.md\n",
    "- Option B: .md and !README.md\n",
    "- Option C: *.md and !README"
   ]
  },
  {
   "cell_type": "code",
   "execution_count": 43,
   "metadata": {
    "nbgrader": {
     "grade": false,
     "grade_id": "cell-dde4b8e88ebb208b",
     "locked": false,
     "schema_version": 3,
     "solution": true,
     "task": false
    }
   },
   "outputs": [],
   "source": [
    "# The task is:\n",
    "# Assign the option value of the option that you think is correct to the variable exercise_7.\n",
    "\n",
    "### BEGIN SOLUTION\n",
    "exercise_7 = \"A\"\n",
    "### END SOLUTION\n",
    "# exercise_7 ="
   ]
  },
  {
   "cell_type": "code",
   "execution_count": 46,
   "metadata": {
    "nbgrader": {
     "grade": true,
     "grade_id": "cell-b4030ab1152948cb",
     "locked": true,
     "points": 0,
     "schema_version": 3,
     "solution": false,
     "task": false
    }
   },
   "outputs": [],
   "source": [
    "exercise_7_hash = '559aead08264d5795d3909718cdd05abd49572e84fe55590eef31a88a08fdffd'\n",
    "assert isinstance(exercise_7,str), \"The variable should be a string.\"\n",
    "assert exercise_7_hash == hashlib.sha256(bytes(exercise_7, encoding='utf8')).hexdigest(), \"The value of the option is incorrect.\""
   ]
  },
  {
   "cell_type": "markdown",
   "metadata": {
    "nbgrader": {
     "grade": false,
     "grade_id": "cell-a531b7f65f79e7d1",
     "locked": true,
     "schema_version": 3,
     "solution": false,
     "task": false
    }
   },
   "source": [
    "# Exercise 8: Git Workflow\n",
    "\n",
    "This is the last exercise of the notebook. It is basically a step of instructions for you to do and see for yourself how some git commands work:\n",
    "- Save this file\n",
    "- On the command line, run this command: `cd ~/projects/ds-prep-workspace`\n",
    "- Run the git status command\n",
    "- Check the output, you should see that the Exercise Notebook file is Modified\n",
    "- Run the git add command to add just the Exercise Notebook file\n",
    "- Run the git commit command with the option that allows you to write the commit message in the command. Write the following message: \"This is the first commit that I truly understand! Hopefully the first of many!\"\n",
    "\n",
    "The end! Feel free to say this on the week 7 channel: \"@Miguel D - Instructor, Setup I challenge you for a fight! That sword is no match for me!\"."
   ]
  }
 ],
 "metadata": {
  "celltoolbar": "Create Assignment",
  "kernelspec": {
   "display_name": "Python 3",
   "language": "python",
   "name": "python3"
  },
  "language_info": {
   "codemirror_mode": {
    "name": "ipython",
    "version": 3
   },
   "file_extension": ".py",
   "mimetype": "text/x-python",
   "name": "python",
   "nbconvert_exporter": "python",
   "pygments_lexer": "ipython3",
   "version": "3.7.3"
  }
 },
 "nbformat": 4,
 "nbformat_minor": 2
}
