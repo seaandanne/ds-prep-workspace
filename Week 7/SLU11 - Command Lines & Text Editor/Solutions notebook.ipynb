{
 "cells": [
  {
   "cell_type": "markdown",
   "metadata": {
    "nbgrader": {
     "grade": false,
     "grade_id": "cell-de96e4a5468707dc",
     "locked": true,
     "schema_version": 3,
     "solution": false,
     "task": false
    }
   },
   "source": [
    "# SLU11 Command Lines & Text Editor - Exercise Notebook\n",
    "***"
   ]
  },
  {
   "cell_type": "code",
   "execution_count": 1,
   "metadata": {
    "nbgrader": {
     "grade": false,
     "grade_id": "cell-b3b9d1ca4eb808a2",
     "locked": true,
     "schema_version": 3,
     "solution": false,
     "task": false
    }
   },
   "outputs": [],
   "source": [
    "# For evaluation purposes, please import this package:\n",
    "import hashlib"
   ]
  },
  {
   "cell_type": "markdown",
   "metadata": {
    "nbgrader": {
     "grade": false,
     "grade_id": "cell-097e6e663eaa0d55",
     "locked": true,
     "schema_version": 3,
     "solution": false,
     "task": false
    }
   },
   "source": [
    "### Exercise 1: Linux Command Line Interpreter\n",
    "What is the name of the command line interpreter in LINUX?\n",
    "\n",
    "- Option A: PowerShell\n",
    "- Option B: UNIX Shell\n",
    "- Option C: Bourne Again Shell (BASH)"
   ]
  },
  {
   "cell_type": "code",
   "execution_count": 2,
   "metadata": {
    "nbgrader": {
     "grade": false,
     "grade_id": "cell-e435dad275e6d3e8",
     "locked": false,
     "schema_version": 3,
     "solution": true,
     "task": false
    }
   },
   "outputs": [],
   "source": [
    "# The task is:\n",
    "# Assign the option value of the option that you think is correct to the variable exercise_1.\n",
    "# For example, if you think that option A is correct, do: exercise_1 = \"A\"\n",
    "\n",
    "# exercise_1 =\n",
    "### BEGIN SOLUTION\n",
    "exercise_1 = \"C\"\n",
    "### END SOLUTION"
   ]
  },
  {
   "cell_type": "code",
   "execution_count": 3,
   "metadata": {
    "nbgrader": {
     "grade": true,
     "grade_id": "cell-477ba88499d4f59b",
     "locked": true,
     "points": 2,
     "schema_version": 3,
     "solution": false,
     "task": false
    }
   },
   "outputs": [],
   "source": [
    "ex_1 = '6b23c0d5f35d1b11f9b683f0b0a617355deb11277d91ae091d399c655b87940d'\n",
    "assert isinstance(ex_1,str), \"The variable should be a string.\"\n",
    "assert ex_1 == hashlib.sha256(bytes(exercise_1, encoding='utf8')).hexdigest(), \"The value of the option is incorrect.\""
   ]
  },
  {
   "cell_type": "markdown",
   "metadata": {
    "nbgrader": {
     "grade": false,
     "grade_id": "cell-6f8d9ac3dcdd2047",
     "locked": true,
     "schema_version": 3,
     "solution": false,
     "task": false
    }
   },
   "source": [
    "### Exercise 2: Hierarchical directory structure\n",
    "How are Linux files organized in terms of structure?\n",
    "\n",
    "- Option A: Folders and sub-folders\n",
    "- Option B: UNIX Shell\n",
    "- Option C: Directories and sub-directories"
   ]
  },
  {
   "cell_type": "code",
   "execution_count": 4,
   "metadata": {
    "nbgrader": {
     "grade": false,
     "grade_id": "cell-9bb39a7a94cf8caf",
     "locked": false,
     "schema_version": 3,
     "solution": true,
     "task": false
    }
   },
   "outputs": [],
   "source": [
    "# exercise_2 =\n",
    "### BEGIN SOLUTION\n",
    "exercise_2 = \"C\"\n",
    "### END SOLUTION"
   ]
  },
  {
   "cell_type": "code",
   "execution_count": 5,
   "metadata": {
    "nbgrader": {
     "grade": true,
     "grade_id": "cell-f82b2df42e06ea99",
     "locked": true,
     "points": 2,
     "schema_version": 3,
     "solution": false,
     "task": false
    }
   },
   "outputs": [],
   "source": [
    "ex_2 = '32096c2e0eff33d844ee6d675407ace18289357d'\n",
    "assert isinstance(ex_2,str), \"The variable should be a string.\"\n",
    "assert ex_2 == hashlib.sha1(bytes(exercise_2, encoding='utf8')).hexdigest(), \"The value of the option is incorrect.\""
   ]
  },
  {
   "cell_type": "markdown",
   "metadata": {
    "nbgrader": {
     "grade": false,
     "grade_id": "cell-7010ce97e4828abc",
     "locked": true,
     "schema_version": 3,
     "solution": false,
     "task": false
    }
   },
   "source": [
    "### Exercise 3: Where is home?\n",
    "Imagine that you have a Linux user called `tortoise`, what is the correct path for this user's *home directory*?\n",
    "\n",
    "- Option A: */root*\n",
    "- Option B: */tortoise*\n",
    "- Option C: */root/tortoise*\n",
    "- Option D: */home/tortoise*"
   ]
  },
  {
   "cell_type": "code",
   "execution_count": 6,
   "metadata": {
    "nbgrader": {
     "grade": false,
     "grade_id": "cell-a894a58ceb39eaa2",
     "locked": false,
     "schema_version": 3,
     "solution": true,
     "task": false
    }
   },
   "outputs": [],
   "source": [
    "# exercise_3 =\n",
    "### BEGIN SOLUTION\n",
    "exercise_3 = \"D\"\n",
    "### END SOLUTION"
   ]
  },
  {
   "cell_type": "code",
   "execution_count": 7,
   "metadata": {
    "nbgrader": {
     "grade": true,
     "grade_id": "cell-5a2440598289b1e3",
     "locked": true,
     "points": 3,
     "schema_version": 3,
     "solution": false,
     "task": false
    }
   },
   "outputs": [],
   "source": [
    "ex_3 = '50c9e8d5fc98727b4bbc93cf5d64a68db647f04f'\n",
    "assert isinstance(ex_3,str), \"The variable should be a string.\"\n",
    "assert ex_3 == hashlib.sha1(bytes(exercise_3, encoding='utf8')).hexdigest(), \"The value of the option is incorrect.\""
   ]
  },
  {
   "cell_type": "markdown",
   "metadata": {
    "nbgrader": {
     "grade": false,
     "grade_id": "cell-231ba53cba89a279",
     "locked": true,
     "schema_version": 3,
     "solution": false,
     "task": false
    }
   },
   "source": [
    "### Exercise 4: Changing directory\n",
    "Now, for our same `tortoise` user, if our current working path is `/var/lib/systemd/`, how do we go this users *home directory* ?\n",
    "\n",
    "Option A: pwd\n",
    "Option B: cd /home\n",
    "Option C: cd\n",
    "Option D: cd tortoise"
   ]
  },
  {
   "cell_type": "code",
   "execution_count": 8,
   "metadata": {
    "nbgrader": {
     "grade": false,
     "grade_id": "cell-29db176b41ae1c07",
     "locked": false,
     "schema_version": 3,
     "solution": true,
     "task": false
    }
   },
   "outputs": [],
   "source": [
    "# exercise_4 =\n",
    "### BEGIN SOLUTION\n",
    "exercise_4 = \"C\"\n",
    "### END SOLUTION"
   ]
  },
  {
   "cell_type": "code",
   "execution_count": 9,
   "metadata": {
    "nbgrader": {
     "grade": true,
     "grade_id": "cell-e4ea53657d321c19",
     "locked": true,
     "points": 3,
     "schema_version": 3,
     "solution": false,
     "task": false
    }
   },
   "outputs": [],
   "source": [
    "ex_4 = '484d52691fcadbfabec5a318d1cf9692c7f293cbc8c1d5f22b2d839b'\n",
    "assert isinstance(ex_4,str), \"The variable should be a string.\"\n",
    "assert ex_4 == hashlib.sha224(bytes(exercise_4, encoding='utf8')).hexdigest(), \"The value of the option is incorrect.\""
   ]
  },
  {
   "cell_type": "markdown",
   "metadata": {
    "nbgrader": {
     "grade": false,
     "grade_id": "cell-758853e9e0f120d8",
     "locked": true,
     "schema_version": 3,
     "solution": false,
     "task": false
    }
   },
   "source": [
    "### Exercise 5: New directory\n",
    "We need to create a new working directory for `tortoise` files in this current working directory, let's call it `/dev`, what is the correct command we should use?\n",
    "\n",
    "- Option A: *cat /dev*\n",
    "- Option B: *mkdir dev*\n",
    "- Option C: *make /dev*\n",
    "- Option D: *touch dev*"
   ]
  },
  {
   "cell_type": "code",
   "execution_count": 10,
   "metadata": {
    "nbgrader": {
     "grade": false,
     "grade_id": "cell-befccab89f6c99df",
     "locked": false,
     "schema_version": 3,
     "solution": true,
     "task": false
    }
   },
   "outputs": [],
   "source": [
    "# exercise_5 =\n",
    "### BEGIN SOLUTION\n",
    "exercise_5 = \"B\"\n",
    "### END SOLUTION"
   ]
  },
  {
   "cell_type": "code",
   "execution_count": 11,
   "metadata": {
    "nbgrader": {
     "grade": true,
     "grade_id": "cell-8e25f4730d887ad4",
     "locked": true,
     "points": 3,
     "schema_version": 3,
     "solution": false,
     "task": false
    }
   },
   "outputs": [],
   "source": [
    "ex_5 = 'd56cc1ac775bdf54c4536f6ef08de810454487513640e201af923c79'\n",
    "assert isinstance(ex_5,str), \"The variable should be a string.\"\n",
    "assert ex_5 == hashlib.sha224(bytes(exercise_5, encoding='utf8')).hexdigest(), \"The value of the option is incorrect.\""
   ]
  },
  {
   "cell_type": "markdown",
   "metadata": {
    "nbgrader": {
     "grade": false,
     "grade_id": "cell-bba6849cceca2ad3",
     "locked": true,
     "schema_version": 3,
     "solution": false,
     "task": false
    }
   },
   "source": [
    "### Exercise 6: New file\n",
    "`tortoise` is not happy. This user needs a new empty file where is going to store some logs, called `dump.txt`. \n",
    "\n",
    "What command should we use?\n",
    "\n",
    "- Option A: *cat /dump.txt*\n",
    "- Option B: *rmdir dump.txt*\n",
    "- Option C: *ls dump.txt*\n",
    "- Option D: *touch dump.txt*"
   ]
  },
  {
   "cell_type": "code",
   "execution_count": 12,
   "metadata": {
    "nbgrader": {
     "grade": false,
     "grade_id": "cell-d629c9437fa027f7",
     "locked": false,
     "schema_version": 3,
     "solution": true,
     "task": false
    }
   },
   "outputs": [],
   "source": [
    "# exercise_6 =\n",
    "### BEGIN SOLUTION\n",
    "exercise_6 = \"D\"\n",
    "### END SOLUTION"
   ]
  },
  {
   "cell_type": "code",
   "execution_count": 13,
   "metadata": {
    "nbgrader": {
     "grade": true,
     "grade_id": "cell-9b757ee86b6b31a4",
     "locked": true,
     "points": 3,
     "schema_version": 3,
     "solution": false,
     "task": false
    }
   },
   "outputs": [],
   "source": [
    "ex_6 = '7497e88b8c64062edfb2f30b9c5f845552b841d1fbae97ab3f224f74'\n",
    "assert isinstance(ex_6,str), \"The variable should be a string.\"\n",
    "assert ex_6 == hashlib.sha224(bytes(exercise_6, encoding='utf8')).hexdigest(), \"The value of the option is incorrect.\""
   ]
  },
  {
   "cell_type": "markdown",
   "metadata": {
    "nbgrader": {
     "grade": false,
     "grade_id": "cell-027850c3035dbca8",
     "locked": true,
     "schema_version": 3,
     "solution": false,
     "task": false
    }
   },
   "source": [
    "### Exercise 7:\n",
    "Now that `tortoise` stored every log entry that he could in the `dump.txt` file, he needs to check what is stored in the file in a simple and easy way.\n",
    "\n",
    "What is the correct command for that procedure?\n",
    "\n",
    "- Option A: *cat dump.txt*\n",
    "- Option B: *rmdir dump.txt*\n",
    "- Option C: *ls dump.txt*\n",
    "- Option D: *touch dump.txt*"
   ]
  },
  {
   "cell_type": "code",
   "execution_count": 14,
   "metadata": {
    "nbgrader": {
     "grade": false,
     "grade_id": "cell-1792bbe6ebc8564d",
     "locked": false,
     "schema_version": 3,
     "solution": true,
     "task": false
    }
   },
   "outputs": [],
   "source": [
    "# exercise_7 =\n",
    "### BEGIN SOLUTION\n",
    "exercise_7 = \"A\"\n",
    "### END SOLUTION"
   ]
  },
  {
   "cell_type": "code",
   "execution_count": 15,
   "metadata": {
    "nbgrader": {
     "grade": true,
     "grade_id": "cell-d57ae086b71ffed4",
     "locked": true,
     "points": 3,
     "schema_version": 3,
     "solution": false,
     "task": false
    }
   },
   "outputs": [],
   "source": [
    "ex_7 = 'ad14aaf25020bef2fd4e3eb5ec0c50272cdfd66074b0ed037c9a11254321aac0729985374beeaa5b80a504d048be1864'\n",
    "assert isinstance(ex_7,str), \"The variable should be a string.\"\n",
    "assert ex_7 == hashlib.sha384(bytes(exercise_7, encoding='utf8')).hexdigest(), \"The value of the option is incorrect.\""
   ]
  },
  {
   "cell_type": "markdown",
   "metadata": {
    "nbgrader": {
     "grade": false,
     "grade_id": "cell-d5ca2231e52e2a23",
     "locked": true,
     "schema_version": 3,
     "solution": false,
     "task": false
    }
   },
   "source": [
    "### Exercise 8: Visual Studio Code\n",
    "\n",
    "Managing to install and set VSCode up is part of this SLU, so if you have any problems please do contact an instructor! \n",
    "\n",
    "It is very important that you get it running properly.\n",
    "\n",
    "- Option A: Rock On! Everything is working fine :)\n",
    "- Option B: NO, I am still struggling with it. It's this week's SLU instructor fault!!!"
   ]
  },
  {
   "cell_type": "code",
   "execution_count": 16,
   "metadata": {
    "nbgrader": {
     "grade": false,
     "grade_id": "cell-82043c053fb1c39d",
     "locked": false,
     "schema_version": 3,
     "solution": true,
     "task": false
    }
   },
   "outputs": [],
   "source": [
    "### BEGIN SOLUTION\n",
    "exercise_8 = \"A\"\n",
    "### END SOLUTION\n",
    "# exercise_8 ="
   ]
  },
  {
   "cell_type": "code",
   "execution_count": 17,
   "metadata": {
    "nbgrader": {
     "grade": true,
     "grade_id": "cell-fa61be6aa4097dad",
     "locked": true,
     "points": 1,
     "schema_version": 3,
     "solution": false,
     "task": false
    }
   },
   "outputs": [],
   "source": [
    "ex_8 = '559aead08264d5795d3909718cdd05abd49572e84fe55590eef31a88a08fdffd'\n",
    "assert isinstance(ex_1,str), \"The variable should be a string.\"\n",
    "assert ex_8 == hashlib.sha256(bytes(exercise_8, encoding='utf8')).hexdigest(), \"The value of the option is incorrect.\""
   ]
  },
  {
   "cell_type": "markdown",
   "metadata": {
    "nbgrader": {
     "grade": false,
     "grade_id": "cell-d952554f5227dfed",
     "locked": true,
     "schema_version": 3,
     "solution": false,
     "task": false
    }
   },
   "source": [
    "### Exercise 9: BASH and VSCode\n",
    "\n",
    "To finish this SLU in style, try to perform the following task using VSCode and the BASH command line interface that comes with it:\n",
    "\n",
    "Remember that for the Linux user **tortoise**, `./` is translated to `/home/tortoise`.\n",
    "\n",
    "1. In your home directory create the following directory structure:\n",
    "    - ./my_folder_1/my_sub_folder_1/\n",
    "    - ./my_folder_2/my_sub_folder_2/\n",
    "    \n",
    "    \n",
    "2. Navigate to the **my_sub_folder_1** and create a new Python file called **my_code.py** with the `touch` command.\n",
    "\n",
    "\n",
    "3. With VSCode editing abilities, paste the following snippet inside the **my_code.py** file and save it:"
   ]
  },
  {
   "cell_type": "code",
   "execution_count": 18,
   "metadata": {
    "nbgrader": {
     "grade": false,
     "grade_id": "cell-c423675e1c919e7f",
     "locked": true,
     "schema_version": 3,
     "solution": false,
     "task": false
    }
   },
   "outputs": [
    {
     "data": {
      "text/plain": [
       "'/home/nunohelibeires/ds-prep-course-instructors/Week 7/SLU11 - Command Lines & Text Editor'"
      ]
     },
     "execution_count": 18,
     "metadata": {},
     "output_type": "execute_result"
    }
   ],
   "source": [
    "import os\n",
    "os.getcwd()"
   ]
  },
  {
   "cell_type": "markdown",
   "metadata": {
    "nbgrader": {
     "grade": false,
     "grade_id": "cell-63f639c0488998c0",
     "locked": true,
     "schema_version": 3,
     "solution": false,
     "task": false
    }
   },
   "source": [
    "4. Use the `cat` command to confirm everything is correct inside the python file.\n",
    "\n",
    "\n",
    "5. Run the **my_code.py** file using the BASH command line.\n",
    "    - *Expected result: ./my_folder_1/my_sub_folder_1/*\n",
    "    \n",
    "    \n",
    "6. Use the `cp` command to copy the python file to ./my_folder_2/my_sub_folder_2/\n",
    "\n",
    "\n",
    "7. Run the **my_code.py** file using the BASH command line.\n",
    "    - *Expected result: ./my_folder_2/my_sub_folder_2/*"
   ]
  }
 ],
 "metadata": {
  "celltoolbar": "Create Assignment",
  "kernelspec": {
   "display_name": "Python 3",
   "language": "python",
   "name": "python3"
  },
  "language_info": {
   "codemirror_mode": {
    "name": "ipython",
    "version": 3
   },
   "file_extension": ".py",
   "mimetype": "text/x-python",
   "name": "python",
   "nbconvert_exporter": "python",
   "pygments_lexer": "ipython3",
   "version": "3.7.3"
  }
 },
 "nbformat": 4,
 "nbformat_minor": 4
}
