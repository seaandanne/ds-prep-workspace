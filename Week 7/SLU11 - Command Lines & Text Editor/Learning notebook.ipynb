{
 "cells": [
  {
   "cell_type": "markdown",
   "metadata": {},
   "source": [
    "# SLU11 Command Lines & Text Editor - Learning Notebook\n",
    "***"
   ]
  },
  {
   "cell_type": "markdown",
   "metadata": {},
   "source": [
    "In this SLU you will learn about the following Linux BASH commands:\n",
    "\n",
    "- `pwd`: Print name of current directory\n",
    "- `ls` / `ls -a`: List directory contents\n",
    "- `cd`: Change directory\n",
    "- `cp`: Copying files and directories\n",
    "- `mv`: Moving / renaming files and directories\n",
    "- `mkdir`: Creating directories\n",
    "- `rm`: Removing files and directories\n",
    "- `touch`: Creating new file without content\n",
    "- `cat`: Concatenate files\n",
    "- Linux and Python: Running a python file from the command line\n",
    "\n",
    "And also learn about a Text Editor:\n",
    "- Visual Studio Code Installation\n",
    "- VSCode extensions\n",
    "- VSCode and WSL\n",
    "- Editing files with VSCode\n",
    "- VSCode and BASH terminal\n",
    "***"
   ]
  },
  {
   "cell_type": "markdown",
   "metadata": {},
   "source": [
    "## Part 1 - Command Lines"
   ]
  },
  {
   "cell_type": "markdown",
   "metadata": {},
   "source": [
    "Before presenting the features and possibilities of using the command line interface of Linux let's introduce it first!\n",
    "\n",
    "If you ever follow into the world of data science (or other related field of computer science or information technologies) you will notice that the world is using, increasingly, open source technologies including a widely adopted open source operating system: **LINUX**.\n",
    "\n",
    "Linux is an UNIX based OS, initially developed by Linus Trovalds and nowadays continuously developed and maintained by a huge community (just like Python!). \n",
    "\n",
    "**Fun Fact**: Linus + Unix = Linux\n",
    "\n",
    "<img src=\"./assets/linux power.jpg\" width=\"500\"/>\n",
    "\n",
    "In Linux (as other system and even programming languages) every command has options and arguments that can be an extra input for the operation by the user. \n",
    "\n",
    "Commands are often followed by one or more options that modify their behavior and, further, by one or more arguments, the items upon which the command acts. So, most commands look kind of like this:\n",
    "\n",
    "<img src=\"./assets/command-lines intro.jpg\" width=\"500\"/>"
   ]
  },
  {
   "cell_type": "markdown",
   "metadata": {},
   "source": [
    "### 1.1 | Understanding the file system tree\n",
    "To start, before learning what to type, it is important to know how to navigate the file system on our Linux system.\n",
    "\n",
    "Like Windows, a Unix-like operating system such as Linux organizes its files\n",
    "in what is called a *hierarchical directory structure*. \n",
    "\n",
    "This means they are organized in a tree-like pattern of directories (on Windows, for instance, we call them folders and sub-folders), which may contain files and other directories.\n",
    "\n",
    "The first directory in the file system is called the root directory. The root directory contains files and subdirectories, which contain more files and subdirectories, and so on.\n",
    "\n",
    "**Fun Fact:** A difference between both operative systems hierarchical directory structure is that unlike Windows, which has a separate file system tree for each storage device, Linux always have a single file system tree, regardless of how many drives or storage devices are attached to the computer\n",
    "\n",
    "**Fun Fact 2:** `BASH` is an acronym for **Bourne-Again Shell**, a reference to the fact that `bash` is an enhanced replacement for `sh`, the original Unix shell program written by Steve Bourne.\n",
    "\n",
    "**heads up:** in the below examples nevermind the green color on directories, it is related with linux permission system (`chmod`) which is outside the scope of this SLU."
   ]
  },
  {
   "cell_type": "markdown",
   "metadata": {},
   "source": [
    "### 1.2 | `pwd`: Where am I?\n",
    "At any given time, as Linux user, you'll be inside a single directory that may or may not contain files and other subdirectories.\n",
    "\n",
    "The directory you are standing in will always be called **current working directory**. To display the current working directory path, we use the `pwd` command - **print (current) working directory**:\n",
    "\n",
    "<img src=\"./assets/command-lines PWD.jpg\" width=\"300\"/>\n",
    "\n",
    "Every time we log in to our Linux system our current working directory is set to our *home directory*, like in the above image."
   ]
  },
  {
   "cell_type": "markdown",
   "metadata": {},
   "source": [
    "### 1.3 | `ls`: Listing the contents of a directory\n",
    "To list the files and directories in the current working directory, we use the `ls` command.\n",
    "<img src=\"./assets/command-line LS.jpg\" width=\"500\"/>\n",
    "\n",
    "The `ls` command is one of the most used commands in linux, and for a good reason. With it, we can see directory contents  and determine a variety of important file and directory attributes.\n",
    "\n",
    "Using `ls` command with the `--all` option (or just the command `la`) will list all files in the current working directory, even those that begin with a **.** which are hidden files, thus normally not listed.\n",
    "\n",
    "<img src=\"./assets/command-lines LA.jpg\" width=\"600\"/>\n",
    "\n",
    "As you can see the *.ipynb_checkpoints* (jupyter notebook temporary files) folder appears with the `la` command, but not with `ls`.\n",
    "\n",
    "Here is a list with some common `ls` options:\n",
    "<img src=\"./assets/command-lines ls a.jpg\" width=\"500\"/>"
   ]
  },
  {
   "cell_type": "markdown",
   "metadata": {},
   "source": [
    "### 1.4 | `cd`: Changing the current working directory\n",
    "\n",
    "It is possible to change the working directory (where the user stands in the directory structure talked previously) by using the `cd` **change directory** command:\n",
    "\n",
    "<img src=\"./assets/command-lines CD.JPG\" width=\"400\"/>\n",
    "\n",
    "After running the command `cd dummy_folder_1` it is possible to notice that the current directory change to the **dummy_folder_1** (new current working directory in blue).\n",
    "\n",
    "It is also important to address that the command `cd ~` will always return to the *home directory* of the user, as you are going to see ahead.\n",
    "\n",
    "#### 1.4.1 - Parent directory\n",
    "On Unix-like operating systems, like Linux, the current working directory is represented by a single dot **\".\"**. Two dots (**\"..\"**) are representing the parent directory or, in other words, the directory immediately above the current one.\n",
    "\n",
    "If we type `cd .`, you will change into the current working directory which is the same as saying that the command will do nothing.\n",
    "\n",
    "This may look like boring stuff, but the **\".\"** and **\"..\"** will be important if you ever get into relative paths.\n",
    "\n",
    "For instance, if you have a **dummy_folder_1** with a **sub_dummy_folder_1** inside your home directory one could say that we would have the following structure: `./dummy_folder_1/sub_dummy_folder_1`, where the **\".\"** would be translated as `/home/nunohelibeires`.\n",
    "\n",
    "So, check the following example where, from `/home/nunohelibeires/dummy_folder_1/sub_dummy_folder_1` we want to navigate to one level up `/home/nunohelibeires/dummy_folder_1` or, in the second example, two levels up straight to `/home/nunohelibeires`:\n",
    "\n",
    "<img src=\"./assets/command-lines CD dots.JPG\" width=\"500\"/>"
   ]
  },
  {
   "cell_type": "markdown",
   "metadata": {},
   "source": [
    "### 1.5 | `cp`: Copying files and directories\n",
    "The cp command copies files or directories. It can be used two different ways.\n",
    "\n",
    "Copying the single file or directory **file_1.txt** to the file or directory **file_2.txt**:\n",
    "\n",
    "<img src=\"./assets/command-lines CP 1.jpg\" width=\"500\"/>\n",
    "\n",
    "Or copying multiple items (files or directories) into a directory:\n",
    "\n",
    "<img src=\"./assets/command-lines CP 2.jpg\" width=\"500\"/>"
   ]
  },
  {
   "cell_type": "markdown",
   "metadata": {},
   "source": [
    "### 1.6 | `mv`: Moving / renaming files and directories\n",
    "The `mv` command performs both file moving and file renaming, depending on how it is used. Either way, the original filename no longer exists after the operation.\n",
    "\n",
    "`mv` is used in the same way as `cp`:\n",
    "\n",
    "<img src=\"./assets/command-lines MV 1.jpg\" width=\"500\"/>\n",
    "\n",
    "Now let us move the **file_1.txt** to the home directory but renaming it to **my_new_file_1.txt**:\n",
    "\n",
    "<img src=\"./assets/command-lines MV 2.jpg\" width=\"500\"/>"
   ]
  },
  {
   "cell_type": "markdown",
   "metadata": {},
   "source": [
    "### 1.7 | `mkdir`: Creating directories\n",
    "The `mkdir` command is used to create directories, in this case the argument can be repeated allowing for multiple new directories in one line.\n",
    "\n",
    "<img src=\"./assets/command-lines MKDIR.jpg\" width=\"800\"/>\n",
    "\n",
    "The first example created the **new_folder_1** directory and the second created 3 new directories in one go!"
   ]
  },
  {
   "cell_type": "markdown",
   "metadata": {},
   "source": [
    "### 1.8 | `rm` and `rmdir`: Removing files and directories"
   ]
  },
  {
   "cell_type": "markdown",
   "metadata": {},
   "source": [
    "In order to remove files, the `rm` command is used, while for directories it is possible to use either the `rmdir` command or pass an option for directories removal in the `rm` command, `rm -d`.\n",
    "\n",
    "<img src=\"./assets/command-lines RMDIR.jpg\" width=\"800\"/>\n",
    "\n",
    "In the last example we only deleted empty an empty directory, but you cannot directly delete a directory if it is not empty. In this case it is mandatory to pass the `-r` (recursive) option.\n",
    "\n",
    "<img src=\"./assets/command-lines RM RF.jpg\" width=\"400\"/>\n",
    "\n",
    "Notice these commands have the same principle as the `mkdir` command had, regarding passing multiple arguments.\n",
    "\n",
    "Here is a list of some useful options for the `rm` command:\n",
    "\n",
    "<img src=\"./assets/command-lines RM options.jpg\" width=\"500\"/>"
   ]
  },
  {
   "cell_type": "markdown",
   "metadata": {},
   "source": [
    "### 1.9 | `touch`: Creating new file without content"
   ]
  },
  {
   "cell_type": "markdown",
   "metadata": {},
   "source": [
    "It is used to create a file without any content. The file created using touch command is empty. This command can be used when the user doesn’t have data to store at the time of file creation.\n",
    "\n",
    "<img src=\"./assets/command-lines TOUCH.jpg\" width=\"500\"/>"
   ]
  },
  {
   "cell_type": "markdown",
   "metadata": {},
   "source": [
    "### 1.10 | `cat`: Concatenate files\n",
    "The cat command reads one or more files and copies them to standard output, for instance in the following example running the `cat` command will print the content of the readme.md file:\n",
    "<img src=\"./assets/command-lines CAT.jpg\" width=\"700\"/>\n",
    "\n",
    "Now try it out also using the `tail` command, `tail -n 2 readme.md`. It is the same as `cat` but returns the last 2 lines of the file. \n",
    "\n",
    "There is also a `head` command to print the top n lines of a given file. \n",
    "\n",
    "`head` and `tail` where did I heard that Pandas before?"
   ]
  },
  {
   "cell_type": "markdown",
   "metadata": {},
   "source": [
    "<img src=\"./assets/linux cat.jpg\" width=\"500\"/>"
   ]
  },
  {
   "cell_type": "markdown",
   "metadata": {},
   "source": [
    "### 1.11 | Running a python file through the command line\n",
    "\n",
    "Let us create a **snippet.py** file (command your way to our SLU's directory! the file is there) with the following, very simple and most common, snippet of code:\n",
    "\n",
    "`print(Hello World!)` and confirm that the file has that python line with the `cat` command. (nevermind the commented line, that is for the next chapter)\n",
    "\n",
    "Then all it is needed it is to use the **python** command with the file name as an argument:\n",
    "\n",
    "<img src=\"./assets/command-lines hello world.jpg\" width=\"500\"/>\n",
    "\n",
    "This simple command allows the user to run any given python script, thus any python program, from the command line!"
   ]
  },
  {
   "cell_type": "markdown",
   "metadata": {},
   "source": [
    "### Extra | Python and Linux\n",
    "\n",
    "It is possible to use python in order to access and use Linux OS, with the `os` package.\n",
    "\n",
    "As this is not the goal of this SLU, only a couple of examples are presented to make a point, but more reading and learning is encouraged! More information can be found in the official documentation:\n",
    "\n",
    "https://docs.python.org/3/library/os.html\n",
    "\n",
    "#### - The `pwd` command in Python os:"
   ]
  },
  {
   "cell_type": "code",
   "execution_count": 1,
   "metadata": {},
   "outputs": [
    {
     "data": {
      "text/plain": [
       "'/home/nunohelibeires/ds-prep-course-instructors/Week 7/SLU11 - Command Lines & Text Editor'"
      ]
     },
     "execution_count": 1,
     "metadata": {},
     "output_type": "execute_result"
    }
   ],
   "source": [
    "import os\n",
    "os.getcwd()"
   ]
  },
  {
   "cell_type": "code",
   "execution_count": 2,
   "metadata": {},
   "outputs": [
    {
     "data": {
      "text/plain": [
       "'SLU11 - Command Lines & Text Editor'"
      ]
     },
     "execution_count": 2,
     "metadata": {},
     "output_type": "execute_result"
    }
   ],
   "source": [
    "os.getcwd()[-35:]"
   ]
  },
  {
   "cell_type": "markdown",
   "metadata": {},
   "source": [
    "#### - The `ls` command in Python os:"
   ]
  },
  {
   "cell_type": "code",
   "execution_count": 3,
   "metadata": {},
   "outputs": [
    {
     "name": "stdout",
     "output_type": "stream",
     "text": [
      ".ipynb_checkpoints\n",
      "Exercise notebook.ipynb\n",
      "Learning notebook.ipynb\n",
      "README.md\n",
      "assets\n",
      "requirements.txt\n",
      "snippet.py\n"
     ]
    }
   ],
   "source": [
    "dir_list = os.listdir()\n",
    "for item in dir_list:\n",
    "    print(item)"
   ]
  },
  {
   "cell_type": "markdown",
   "metadata": {},
   "source": [
    "***\n",
    "## Part 2 | Text Editor:\n",
    "\n",
    "Regarding text editors the choice is wide, and some are OS dependent, for instance Windows has NotePad, MacOS comes with TextEdit and Linux with Vi (more precisely Vim, a more enhanced and recent editor).\n",
    "\n",
    "But in this SLU, we are introducing a platform agnostic text editor, powerful yet easy to use. **Microsoft Visual Studio Code**.\n",
    "\n",
    "<img src=\"./assets/vscode.png\" width=\"100\"/>"
   ]
  },
  {
   "cell_type": "markdown",
   "metadata": {},
   "source": [
    "### 2.1 | Download and Install\n",
    "\n",
    "Well, first things first. Download and install it! https://code.visualstudio.com/\n",
    "\n",
    "Right now, you must be thinking which version, should I download the Windows or Linux version?\n",
    "\n",
    "- Download the one suitable with your computer operative system, that is, if you are running Windows Subsystem for Linux because of the prep course you must install the Windows version.\n",
    "\n",
    "After download the executable file just follow the regular installation procedure for the software."
   ]
  },
  {
   "cell_type": "markdown",
   "metadata": {},
   "source": [
    "### 2.2 | Hello World\n",
    "\n",
    "After installing VSCode, you should have something like this but with a welcome tab! (with less icons on the left bar, we'll get to that later don't worry for now):\n",
    "\n",
    "<img src=\"./assets/vscode intro.jpg\" width=\"800\"/>\n",
    "\n",
    "It instantly opens a new (not saved and untitled) file that you can write on!"
   ]
  },
  {
   "cell_type": "markdown",
   "metadata": {},
   "source": [
    "### 2.3 | VSCode extensions\n",
    "\n",
    "Before diving deeper into VSCode and as we all need python for a living, it is important to set up our VSCode clean install with some nice extensions that will make your life a dream when it comes to developing python scripts.\n",
    "\n",
    "To install a new extension, go to the **Extensions** icon on the left bar (ctrl + shift + X), search for the extension you want and press the green icon that says *install* (after installing the extensions restart of VSCode may be required).\n",
    "\n",
    "Here are the recommended extensions that should be installed:\n",
    "\n",
    "- **Remote WSL** *(current version 0.44.2)*: Open any folder in the Windows Subsystem for Linux (WSL) and take advantage of Visual Studio Code's full feature set\n",
    "<img src=\"./assets/vscode remote wsl extension.jpg\" width=\"100\"/>\n",
    "\n",
    "\n",
    "- **Python** *(current version 2020.4.76186)*: Linting, Debugging (multi-threaded, remote), Intellisense, Jupyter Notebooks, code formatting, refactoring, unit tests, snippets, and more\n",
    "<img src=\"./assets/vscode python extension.jpg\" width=\"100\"/>\n",
    "\n",
    "- **Visual Studio IntelliCode** *(current version 1.2.7)*: AI-assisted development\n",
    "<img src=\"./assets/vscode IntelliCode extension.jpg\" width=\"100\"/>\n",
    "\n",
    "- **GitLens** *(current version 10.2.1)*: GitLens supercharges the Git capabilities built into Visual Studio Code. It helps you to visualize code authorship at a glance via Git blame annotations and code lens, seamlessly navigate and explore Git repositories, gain valuable insights via powerful comparison commands, and so much more.\n",
    "<img src=\"./assets/vscode git extension.jpg\" width=\"200\"/>"
   ]
  },
  {
   "cell_type": "markdown",
   "metadata": {},
   "source": [
    "### 2.4 | Connecting to Windows Subsystem for Linux (WSL)\n",
    "\n",
    "VSCode will work for your windows files as well as for your WSL installation and that is the aim of this part. To connect to your prep-course repo that *lives* in your linux distribution.\n",
    "\n",
    "On the left bar just press **Remote Explorer** icon (ctrl + shift + E), the fifth from top, that looks like a computer with a connection circle.\n",
    "\n",
    "1. Choose **WSL targets**:\n",
    "<img src=\"./assets/vscode remote explorer.jpg\" width=\"300\"/>\n",
    "\n",
    "2. Open Folder in WSL:\n",
    "\n",
    "<img src=\"./assets/vscode wsl.jpg\" width=\"300\"/>\n",
    "\n",
    "3. VSCode will reload and connect to your WSL distro, here is my work tree:\n",
    "\n",
    "<img src=\"./assets/vscode wsl tree.jpg\" width=\"300\"/>"
   ]
  },
  {
   "cell_type": "markdown",
   "metadata": {},
   "source": [
    "### 2.5 | Editing files\n",
    "\n",
    "Now you are good to go! Remember the **snippet.py** file we talked about in the last chapter? Double click it and play a little with the existing code to test it in the next sub-chapter.\n",
    "\n",
    "For instance, if you don't know what to write right now just uncomment the second print statement in that file:\n",
    "\n",
    "`print(\"VSCode is a whole new game! Goodbye, World!\")`\n",
    "\n",
    "In the end don't forget to save the file (**Ctrl + S**)"
   ]
  },
  {
   "cell_type": "markdown",
   "metadata": {},
   "source": [
    "### 2.6 | Access BASH terminal through VSCode"
   ]
  },
  {
   "cell_type": "markdown",
   "metadata": {},
   "source": [
    "Now, for the cherry on top of the cake! Using Linux Command Line through VSCode. Yes, word!\n",
    "\n",
    "So, remember we are using VSCode inside of our Windows Subsystem for Linux distribution (chapter 2.4) so just press **CTRL+SHIFT+Ç** or, in the top bar, go to **Terminal/New Terminal**.\n",
    "\n",
    "Again, command your way to this week's SLU where you will find the **snipper.py** file. Now, as you did in the previous chapter just run it.\n",
    "\n",
    "You'll have something like this:\n",
    "\n",
    "<img src=\"./assets/vscode goodbye world.jpg\" width=\"1000\"/>\n",
    "\n",
    "\n",
    "Great! you are good to go :) Try explore VSCode a little bit more as it is one great tool for development.\n",
    "***"
   ]
  },
  {
   "cell_type": "markdown",
   "metadata": {},
   "source": [
    " Command Lines & Text Editor: look back to what we've learned so far:\n",
    " \n",
    " - `pwd`: Print name of current directory\n",
    "- `ls` / `ls -a`: List directory contents\n",
    "- `cd`: Change directory\n",
    "- `cp`: Copying files and directories\n",
    "- `mv`: Moving / renaming files and directories\n",
    "- `mkdir`: Creating directories\n",
    "- `rm`: Removing files and directories\n",
    "- `touch`: Creating new file without content\n",
    "- `cat`: Concatenate files\n",
    "- Linux and Python: Running a python file from the command line\n",
    "\n",
    "And also learn about a Text Editor:\n",
    "- Visual Studio Code Installation\n",
    "- VSCode extensions\n",
    "- VSCode and WSL\n",
    "- Editing files with VSCode\n",
    "- VSCode and BASH terminal"
   ]
  }
 ],
 "metadata": {
  "kernelspec": {
   "display_name": "Python 3",
   "language": "python",
   "name": "python3"
  },
  "language_info": {
   "codemirror_mode": {
    "name": "ipython",
    "version": 3
   },
   "file_extension": ".py",
   "mimetype": "text/x-python",
   "name": "python",
   "nbconvert_exporter": "python",
   "pygments_lexer": "ipython3",
   "version": "3.7.3"
  }
 },
 "nbformat": 4,
 "nbformat_minor": 4
}
