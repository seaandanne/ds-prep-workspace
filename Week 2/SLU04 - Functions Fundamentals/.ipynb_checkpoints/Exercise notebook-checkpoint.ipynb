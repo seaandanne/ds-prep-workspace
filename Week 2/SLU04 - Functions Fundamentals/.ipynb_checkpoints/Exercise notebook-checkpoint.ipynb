{
 "cells": [
  {
   "cell_type": "markdown",
   "metadata": {
    "deletable": false,
    "editable": false,
    "nbgrader": {
     "grade": false,
     "grade_id": "cell-46d843154dcd7d0f",
     "locked": true,
     "schema_version": 3,
     "solution": false
    }
   },
   "source": [
    "# SLU04 - Function Fundamentals: Exercise notebook\n",
    "\n",
    "Here is where you will just gain some muscle memory implementing functions. The important part here is that you can take some plain old english and translate it into a function."
   ]
  },
  {
   "cell_type": "code",
   "execution_count": 4,
   "metadata": {
    "deletable": false,
    "editable": false,
    "nbgrader": {
     "grade": false,
     "grade_id": "cell-b03de9ca16f665fc",
     "locked": true,
     "schema_version": 3,
     "solution": false,
     "task": false
    }
   },
   "outputs": [],
   "source": [
    "import inspect\n",
    "from io import StringIO \n",
    "import sys\n",
    "\n",
    "class Capturing(list):\n",
    "    def __enter__(self):\n",
    "        self._stdout = sys.stdout\n",
    "        sys.stdout = self._stringio = StringIO()\n",
    "        return self\n",
    "    def __exit__(self, *args):\n",
    "        self.extend(self._stringio.getvalue().splitlines())\n",
    "        del self._stringio    # free up some memory\n",
    "        sys.stdout = self._stdout"
   ]
  },
  {
   "cell_type": "markdown",
   "metadata": {
    "deletable": false,
    "editable": false,
    "nbgrader": {
     "grade": false,
     "grade_id": "cell-183f09ee4f23c829",
     "locked": true,
     "schema_version": 3,
     "solution": false,
     "task": false
    }
   },
   "source": [
    "### Exercise 1\n",
    "\n",
    "Implement a function that\n",
    "\n",
    "- Is named `fun_adding_numbers`\n",
    "- Takes two arguments\n",
    "- Adds the arguments together\n",
    "- Returns the value of the numbers added together\n"
   ]
  },
  {
   "cell_type": "code",
   "execution_count": 5,
   "metadata": {
    "deletable": false,
    "nbgrader": {
     "grade": false,
     "grade_id": "cell-a3913c46bc1f65f2",
     "locked": false,
     "schema_version": 3,
     "solution": true,
     "task": false
    }
   },
   "outputs": [
    {
     "data": {
      "text/plain": [
       "2"
      ]
     },
     "execution_count": 5,
     "metadata": {},
     "output_type": "execute_result"
    }
   ],
   "source": [
    "# YOUR CODE HERE\n",
    "def fun_adding_numbers(number1, number2):\n",
    "    output = number1 + number2\n",
    "    return output\n",
    "fun_adding_numbers(1,1)"
   ]
  },
  {
   "cell_type": "code",
   "execution_count": 6,
   "metadata": {
    "deletable": false,
    "editable": false,
    "nbgrader": {
     "grade": true,
     "grade_id": "cell-b7d97d9eb6d71625",
     "locked": true,
     "points": 1,
     "schema_version": 3,
     "solution": false,
     "task": false
    }
   },
   "outputs": [],
   "source": [
    "sig = inspect.signature(fun_adding_numbers)\n",
    "\n",
    "assert fun_adding_numbers(1, 2) == 3\n",
    "assert fun_adding_numbers(4, 5) == 9\n",
    "assert '+' in inspect.getsource(fun_adding_numbers)\n",
    "assert len(sig.parameters) == 2"
   ]
  },
  {
   "cell_type": "markdown",
   "metadata": {
    "deletable": false,
    "editable": false,
    "nbgrader": {
     "grade": false,
     "grade_id": "cell-0e243fe446e99f32",
     "locked": true,
     "schema_version": 3,
     "solution": false,
     "task": false
    }
   },
   "source": [
    "### Exercise 2\n",
    "\n",
    "Implement a function that\n",
    "\n",
    "- Is named `fun_multiplying_numbers`\n",
    "- Takes two parameters\n",
    "- Multiplies the arguments together\n",
    "- Returns the value of the numbers added together\n"
   ]
  },
  {
   "cell_type": "code",
   "execution_count": 8,
   "metadata": {
    "deletable": false,
    "nbgrader": {
     "grade": false,
     "grade_id": "cell-b5cba4d5bddbb4b5",
     "locked": false,
     "schema_version": 3,
     "solution": true,
     "task": false
    }
   },
   "outputs": [
    {
     "data": {
      "text/plain": [
       "20"
      ]
     },
     "execution_count": 8,
     "metadata": {},
     "output_type": "execute_result"
    }
   ],
   "source": [
    "# YOUR CODE HERE\n",
    "def fun_multiplying_numbers(number1, number2):\n",
    "    output = number1 * number2\n",
    "    return output\n",
    "fun_multiplying_numbers(2,10)"
   ]
  },
  {
   "cell_type": "code",
   "execution_count": 9,
   "metadata": {
    "deletable": false,
    "editable": false,
    "nbgrader": {
     "grade": true,
     "grade_id": "cell-5db0d0c172007a90",
     "locked": true,
     "points": 1,
     "schema_version": 3,
     "solution": false,
     "task": false
    }
   },
   "outputs": [],
   "source": [
    "source = inspect.getsource(fun_multiplying_numbers)\n",
    "\n",
    "sig = inspect.signature(fun_adding_numbers)\n",
    "\n",
    "assert fun_multiplying_numbers(1, 2) == 2\n",
    "assert fun_multiplying_numbers(4, 5) == 20\n",
    "assert '*' in source\n",
    "assert len(sig.parameters) == 2"
   ]
  },
  {
   "cell_type": "markdown",
   "metadata": {
    "deletable": false,
    "editable": false,
    "nbgrader": {
     "grade": false,
     "grade_id": "cell-709036dacd37516a",
     "locked": true,
     "schema_version": 3,
     "solution": false,
     "task": false
    }
   },
   "source": [
    "### Exercise 3\n",
    "\n",
    "Implement a function that\n",
    "\n",
    "- Is named `concat_strings`\n",
    "- Takes two parameters that are strings\n",
    "- Concatinates the strings together in the order that they are received\n",
    "- Returns the concatinated strings"
   ]
  },
  {
   "cell_type": "code",
   "execution_count": 12,
   "metadata": {
    "deletable": false,
    "nbgrader": {
     "grade": false,
     "grade_id": "cell-90e04d850de62687",
     "locked": false,
     "schema_version": 3,
     "solution": true,
     "task": false
    }
   },
   "outputs": [
    {
     "data": {
      "text/plain": [
       "'ora esta'"
      ]
     },
     "execution_count": 12,
     "metadata": {},
     "output_type": "execute_result"
    }
   ],
   "source": [
    "# YOUR CODE HERE\n",
    "def concat_strings(string1, string2):\n",
    "    output = string1 + string2\n",
    "    return output\n",
    "concat_strings(\"ora\", \" esta\")"
   ]
  },
  {
   "cell_type": "code",
   "execution_count": 13,
   "metadata": {
    "deletable": false,
    "editable": false,
    "nbgrader": {
     "grade": true,
     "grade_id": "cell-d309394f7d502266",
     "locked": true,
     "points": 1,
     "schema_version": 3,
     "solution": false,
     "task": false
    }
   },
   "outputs": [],
   "source": [
    "source = inspect.getsource(concat_strings)\n",
    "\n",
    "sig = inspect.signature(concat_strings)\n",
    "\n",
    "assert concat_strings('hello', ' world') == 'hello world'\n",
    "assert concat_strings('Minh', ' will give me a good grade') == 'Minh will give me a good grade'\n",
    "assert '+' in source\n",
    "assert len(sig.parameters) == 2"
   ]
  },
  {
   "cell_type": "markdown",
   "metadata": {
    "deletable": false,
    "editable": false,
    "nbgrader": {
     "grade": false,
     "grade_id": "cell-b0e7fe350fb4ca08",
     "locked": true,
     "schema_version": 3,
     "solution": false,
     "task": false
    }
   },
   "source": [
    "### Exercise 4\n",
    "\n",
    "Implement a function that\n",
    "\n",
    "- Is named `convert_to_int_and_add`\n",
    "- Takes two parameters\n",
    "- Both of the parameters are integers represented as strings\n",
    "- Converts the strings to integers\n",
    "- Adds the integers together\n",
    "- Returns the value of the integers added together"
   ]
  },
  {
   "cell_type": "code",
   "execution_count": 18,
   "metadata": {
    "deletable": false,
    "nbgrader": {
     "grade": false,
     "grade_id": "cell-5769f897199017e3",
     "locked": false,
     "schema_version": 3,
     "solution": true,
     "task": false
    }
   },
   "outputs": [
    {
     "data": {
      "text/plain": [
       "105"
      ]
     },
     "execution_count": 18,
     "metadata": {},
     "output_type": "execute_result"
    }
   ],
   "source": [
    "# YOUR CODE HERE\n",
    "def convert_to_int_and_add(int1,int2):\n",
    "    int11 = int(int1)\n",
    "    int12=int(int2)\n",
    "    output = int11 + int12\n",
    "    return output\n",
    "convert_to_int_and_add('5', '100')"
   ]
  },
  {
   "cell_type": "code",
   "execution_count": null,
   "metadata": {
    "deletable": false,
    "editable": false,
    "nbgrader": {
     "grade": true,
     "grade_id": "cell-bf3c5cd42c49fa00",
     "locked": true,
     "points": 1,
     "schema_version": 3,
     "solution": false,
     "task": false
    }
   },
   "outputs": [],
   "source": [
    "source = inspect.getsource(convert_to_int_and_add)\n",
    "\n",
    "sig = inspect.signature(convert_to_int_and_add)\n",
    "\n",
    "assert convert_to_int_and_add('1', '2') == 3\n",
    "assert convert_to_int_and_add('5', '100') == 105\n",
    "assert '+' in source\n",
    "assert 'int' in source\n",
    "assert len(sig.parameters) == 2"
   ]
  },
  {
   "cell_type": "markdown",
   "metadata": {
    "deletable": false,
    "editable": false,
    "nbgrader": {
     "grade": false,
     "grade_id": "cell-88cc5425bbcd43d5",
     "locked": true,
     "schema_version": 3,
     "solution": false,
     "task": false
    }
   },
   "source": [
    "### Exercise 5\n",
    "\n",
    "Implement a function that\n",
    "\n",
    "- Is named `two_step`\n",
    "- Takes 4 parameters\n",
    "- Multiplies the first 2 together and stores the output in a variable called `step1`\n",
    "- Divides 3rd param by the 4th param and stores the output in a variable called `step2`\n",
    "- Adds the variables `step1` and `step2` together\n",
    "- Returns the value of the `step1` and `step2` added together"
   ]
  },
  {
   "cell_type": "code",
   "execution_count": 19,
   "metadata": {
    "deletable": false,
    "nbgrader": {
     "grade": false,
     "grade_id": "cell-70188605f9305dc8",
     "locked": false,
     "schema_version": 3,
     "solution": true,
     "task": false
    }
   },
   "outputs": [
    {
     "data": {
      "text/plain": [
       "26.0"
      ]
     },
     "execution_count": 19,
     "metadata": {},
     "output_type": "execute_result"
    }
   ],
   "source": [
    "# YOUR CODE HERE\n",
    "def two_step(p1,p2,p3,p4):\n",
    "    step1= p1*p2\n",
    "    step2 = p3/p4\n",
    "    output = step1 + step2\n",
    "    return output\n",
    "\n",
    "two_step(2, 3, 100, 5)"
   ]
  },
  {
   "cell_type": "code",
   "execution_count": 20,
   "metadata": {
    "deletable": false,
    "editable": false,
    "nbgrader": {
     "grade": true,
     "grade_id": "cell-9712fb50a8f3d533",
     "locked": true,
     "points": 1,
     "schema_version": 3,
     "solution": false,
     "task": false
    }
   },
   "outputs": [],
   "source": [
    "source = inspect.getsource(two_step)\n",
    "\n",
    "sig = inspect.signature(two_step)\n",
    "\n",
    "assert two_step(2, 2, 4, 2) == 6.0\n",
    "assert two_step(2, 3, 100, 5) == 26.0\n",
    "assert '*' in source\n",
    "assert '/' in source\n",
    "assert 'step1' in source\n",
    "assert 'step2' in source\n",
    "assert len(sig.parameters) == 4"
   ]
  },
  {
   "cell_type": "markdown",
   "metadata": {
    "deletable": false,
    "editable": false,
    "nbgrader": {
     "grade": false,
     "grade_id": "cell-48156893a92299c4",
     "locked": true,
     "schema_version": 3,
     "solution": false,
     "task": false
    }
   },
   "source": [
    "### Exercise 6\n",
    "\n",
    "Write a function that\n",
    "\n",
    "1. Is called `holla`\n",
    "1. takes 5 arguments\n",
    "1. calls `fun_adding_numbers` with the first two arguments and stores the output in `out1`\n",
    "1. Calls `fun_multiplying_numbers` with the second two arguments and stores the output in `out2`\n",
    "1. Calls `two_step` with the last 4 arguments and stores the output in `out3`\n",
    "1. Returns the addition of `out1`, `out2`, and `out3`"
   ]
  },
  {
   "cell_type": "code",
   "execution_count": 33,
   "metadata": {
    "deletable": false,
    "nbgrader": {
     "grade": false,
     "grade_id": "cell-a5e8cf3762c2538a",
     "locked": false,
     "schema_version": 3,
     "solution": true,
     "task": false
    }
   },
   "outputs": [
    {
     "data": {
      "text/plain": [
       "17.0"
      ]
     },
     "execution_count": 33,
     "metadata": {},
     "output_type": "execute_result"
    }
   ],
   "source": [
    "# YOUR CODE HERE\n",
    "def holla(a1,a2,a3,a4,a5):\n",
    "    out1 = fun_adding_numbers(a1,a2)\n",
    "    out2 = fun_multiplying_numbers(a3,a4)\n",
    "    out3 = two_step(a2,a3,a4,a5)\n",
    "    output = out1 + out2 + out3\n",
    "    return output\n",
    "holla(1, 2, 2, 4, 2)"
   ]
  },
  {
   "cell_type": "code",
   "execution_count": 34,
   "metadata": {
    "deletable": false,
    "editable": false,
    "nbgrader": {
     "grade": true,
     "grade_id": "cell-a02c4760a2ce92bf",
     "locked": true,
     "points": 0,
     "schema_version": 3,
     "solution": false,
     "task": false
    }
   },
   "outputs": [],
   "source": [
    "source = inspect.getsource(holla)\n",
    "sig = inspect.signature(holla)\n",
    "\n",
    "assert holla(1, 2, 2, 4, 2) == 17\n",
    "assert holla(1, 2, 3, 100, 5) == 329.0\n",
    "assert 'fun_adding_numbers(' in source\n",
    "assert 'fun_multiplying_numbers(' in source\n",
    "assert 'two_step(' in source\n",
    "assert 'out1 + out2 + out3' in source\n",
    "assert len(sig.parameters) == 5"
   ]
  },
  {
   "cell_type": "markdown",
   "metadata": {
    "deletable": false,
    "editable": false,
    "nbgrader": {
     "grade": false,
     "grade_id": "cell-758ceecc6b5e495e",
     "locked": true,
     "schema_version": 3,
     "solution": false,
     "task": false
    }
   },
   "source": [
    "### Exercise 7\n",
    "\n",
    "Write a function that\n",
    "\n",
    "1. Is called add_and_print\n",
    "1. Takes two arguments\n",
    "1. Adds them together\n",
    "1. Prints the output\n",
    "1. Returns the value `5`"
   ]
  },
  {
   "cell_type": "code",
   "execution_count": 44,
   "metadata": {
    "deletable": false,
    "nbgrader": {
     "grade": false,
     "grade_id": "cell-5a9e41f05baeb9b5",
     "locked": false,
     "schema_version": 3,
     "solution": true,
     "task": false
    }
   },
   "outputs": [
    {
     "name": "stdout",
     "output_type": "stream",
     "text": [
      "3\n"
     ]
    },
    {
     "data": {
      "text/plain": [
       "5"
      ]
     },
     "execution_count": 44,
     "metadata": {},
     "output_type": "execute_result"
    }
   ],
   "source": [
    "# YOUR CODE HERE\n",
    "def add_and_print(number1, number2):\n",
    "    output = number1 + number2\n",
    "    print(output)\n",
    "    return 5\n",
    "\n",
    "add_and_print(1, 2)"
   ]
  },
  {
   "cell_type": "code",
   "execution_count": 45,
   "metadata": {
    "deletable": false,
    "editable": false,
    "nbgrader": {
     "grade": true,
     "grade_id": "cell-733a771bc8560db2",
     "locked": true,
     "points": 1,
     "schema_version": 3,
     "solution": false,
     "task": false
    }
   },
   "outputs": [],
   "source": [
    "source = inspect.getsource(add_and_print)\n",
    "sig = inspect.signature(add_and_print)\n",
    "\n",
    "with Capturing() as output:\n",
    "    retval = add_and_print(1, 2)\n",
    "\n",
    "assert retval == 5\n",
    "assert output[0] == '3'\n",
    "\n",
    "with Capturing() as output:\n",
    "    retval = add_and_print(10287366, 912865763524)\n",
    "    \n",
    "assert retval == 5\n",
    "assert output[0] == '912876050890'\n",
    "\n",
    "\n",
    "assert '+' in source\n",
    "assert 'return 5' in source\n",
    "assert len(sig.parameters) == 2"
   ]
  },
  {
   "cell_type": "code",
   "execution_count": null,
   "metadata": {},
   "outputs": [],
   "source": []
  }
 ],
 "metadata": {
  "kernelspec": {
   "display_name": "Python 3",
   "language": "python",
   "name": "python3"
  },
  "language_info": {
   "codemirror_mode": {
    "name": "ipython",
    "version": 3
   },
   "file_extension": ".py",
   "mimetype": "text/x-python",
   "name": "python",
   "nbconvert_exporter": "python",
   "pygments_lexer": "ipython3",
   "version": "3.6.9"
  }
 },
 "nbformat": 4,
 "nbformat_minor": 2
}
