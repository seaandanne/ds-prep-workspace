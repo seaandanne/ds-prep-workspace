{
 "cells": [
  {
   "cell_type": "markdown",
   "metadata": {},
   "source": [
    "# SLU13 - Git Intermediate\n",
    "\n",
    "In this notebook we will be covering the following:\n",
    "\n",
    "- Git remotes\n",
    "- Cloning a repository\n",
    "- Pushing changes into remote repository (git push)\n",
    "- Pulling changes from remote (git pull)\n",
    "- Stash changes\n",
    "- Git branches\n",
    "  - Concept of master branch\n",
    "  - Create new branch\n",
    "  - Switch branches\n",
    "  - Merge branches\n",
    "  - Resolve simple conflicts\""
   ]
  },
  {
   "cell_type": "markdown",
   "metadata": {},
   "source": [
    "# 1. Git remotes \n",
    "\n",
    "Remote Git repositories host our projects in the Internet or network. \n",
    "\n",
    "Most of the work you need to do related to version control happens on your local machine's repository: staging, committing, viewing the status, log/history, and so on.\n",
    "\n",
    "The main purpose of a remote repository is to place the repository in a central location so that it can be accessed by multiple developers. A remote repository is very similar to a local one: it contains commits and branches (more on this later). All developers work in their local repository: all modifications are made and committed locally. These changes can then be uploaded to the remote for sharing with others. The main thing to remember is: **remote repositories are used for sharing work among team members, not for working on files**.\n",
    "\n",
    "You can go ahead to the exercise notebook and solve exercise 1."
   ]
  },
  {
   "cell_type": "markdown",
   "metadata": {},
   "source": [
    "# 2. Cloning a repository\n",
    "\n",
    "By now you are probably wondering: \"Isn't this what I did at the beginning of this course!?\". Indeed, it is! You already created a remote and cloned it to your local machine when you followed [these instructions](https://github.com/LDSSA/ds-prep-course#setup-git-and-github). Go there and review those instructions. Really, go now. I will ask you to create a new repository in the exercises :)\n",
    "\n",
    "It is possible to configure several remote repositories. We won't go into that, as it won't be needed for LDSSA.\n",
    "\n",
    "You can check which remote repositories you have configured by using the command `git remote`. If you run that command inside your `ds-prep-workspace` you should see something like this:\n",
    "\n",
    "![01_git_remote.png](assets/01_git_remote.png)\n",
    "\n",
    "That name `origin` is the default name Git gives to the server you cloned from.\n",
    "\n",
    "If you do `git remote -v`, it includes the URL of each connection.\n",
    "\n",
    "![02_git_remote_v.png](assets/02_git_remote_v.png)\n",
    "\n",
    "Your results might be slightly different, as you probably cloned the repository using HTTPS while I cloned it using SSH, but don't fret over it. It identifies the name by which the remote repository is known and its URL. That's all there is to it.\n",
    "\n",
    "You should now solve exercise 2 of the exercise notebook."
   ]
  },
  {
   "cell_type": "markdown",
   "metadata": {},
   "source": [
    "# 3. Pushing changes into the remote repository (git push)\n",
    "\n",
    "So, I created a new repository named *SLU13* on Github and cloned it into my machine. If we run a `git status` we can see that our local repository is up to date with the remote repository. Ignore that *branch master* stuff for now. We'll cover that later.\n",
    "\n",
    "![03_git_status_after_creating_remote.png](assets/03_git_status_after_creating_remote.png)\n",
    "\n",
    "Now let's introduce some changes into our local repository. I'll add a file named `groceries.txt`, and add some text into it: \n",
    "```\n",
    "Quarantine Groceries\n",
    " - Toilet Paper\n",
    " - Popcorn\n",
    " - Coffee\n",
    " - Beer\n",
    " - Ice-cream\n",
    "```\n",
    "\n",
    "After that, I'll stage those changes and commit them into my local repository.\n",
    "![04_code_groceries.png](assets/04_code_groceries.png)\n",
    "![05_groceries_list_original.png](assets/05_groceries_list_original.png)\n",
    "![06_stage_and_commit_groceries.png](assets/06_stage_and_commit_groceries.png)\n",
    "\n",
    "Recapping what we did here:\n",
    "- Create a new file named *groceries.txt*. I used Visual Studio Code for this, you can use whichever method you like.\n",
    "- Stage that file with `git add groceries.txt`\n",
    "- Commit the changes to the local repo with `git commit -m \"add groceries.txt file\"`\n"
   ]
  },
  {
   "cell_type": "markdown",
   "metadata": {},
   "source": [
    "So now that the file `groceries.txt` is created and committed to the local repository, let check the `git log` in the local and remote repositories.\n",
    "\n",
    "![07_git_log_after_commit.png](assets/07_git_log_after_commit.png)\n",
    "\n",
    "The command `git log --oneline` shows a compact view of the local commits. You can see there are two commits identified by ***4ab27a7*** and ***74b7996***. The command `git log origin --oneline` does the same but for the remote repository. Remember that the default remote repository name is *origin*. We can see that we only have one commit there, identified by ***4ab27a7***."
   ]
  },
  {
   "cell_type": "markdown",
   "metadata": {},
   "source": [
    "More commonly you'll do `git status` (spoiler alert: this will be, hands down, your most used git command) and see the result:\n",
    "\n",
    "```git\n",
    "On branch master\n",
    "Your branch is ahead of 'origin/master' by 1 commit.\n",
    "  (use \"git push\" to publish your local commits)\n",
    "\n",
    "nothing to commit, working tree clean\n",
    "```\n",
    "\n",
    "Now the status says that your remote repository is ahead of the remote repository by 1 commit. To send the new commit to the remote repository you have to use the command `git push`."
   ]
  },
  {
   "cell_type": "markdown",
   "metadata": {},
   "source": [
    "The `git push` command uploads all the new commits to the remote repository. Let's go ahead and do it.\n",
    "\n",
    "![08.%20git_push.png](assets/08_git_push.png)\n",
    "\n",
    "Now the changes we made on our local repository are synced with the remote repository. We can check that by using `git status` and `git log`.\n",
    "\n",
    "![09_git_status.png](assets/09_git_status.png)\n",
    "![10_git_log.png](assets/10_git_log.png)\n",
    "\n",
    "Now you know how to push your commits to the remote repository. Go ahead and do exercise 3 in the exercise notebook."
   ]
  },
  {
   "cell_type": "markdown",
   "metadata": {},
   "source": [
    "# 4. Pulling changes from remote (git pull)\n",
    "\n",
    "If you're working on a team, your teammates will also be pushing their own commits to the remote repository. To download those changes to your local repository you use the command `git pull`. Since we don't have any teammates lying around pushing their changes to our repository *SLU13*, we will have to simulate one.\n",
    "\n",
    "We will do that by going directly to the *SLU13* repository on Github, edit the *groceries.txt* file, and commit directly to Github. "
   ]
  },
  {
   "cell_type": "markdown",
   "metadata": {},
   "source": [
    "### Edit the file\n",
    "\n",
    "![11_github_groceries.png](assets/11_github_groceries.png)\n"
   ]
  },
  {
   "cell_type": "markdown",
   "metadata": {},
   "source": [
    "### Commit the file \n",
    "\n",
    "I'll add canned beans to my quarantine groceries list. I'll add a commit message and commit the file directly on github.\n",
    "\n",
    "![12_github_edit_groceries_and_commit.png](assets/12_github_edit_groceries_and_commit.png)"
   ]
  },
  {
   "cell_type": "markdown",
   "metadata": {},
   "source": [
    "### Pulling the changes\n",
    "\n",
    "Now the remote repository has a commit that the local repository doesn't know of.\n",
    "\n",
    "Let use `git status` to check that.\n",
    "\n",
    "![09_git_status.png](assets/09_git_status.png)\n",
    "\n",
    "That's strange! Seems like everything is up to date. Let's try `git log`.\n",
    "\n",
    "![10_git_log.png](assets/10_git_log.png)\n",
    "\n",
    "Same result! No differences in the commits whatsoever.\n",
    "\n",
    "This happens because most Git commands run against your local repository. This is one of the reasons why Git is so fast and also one of the strengths of Git because it allows you to work while offline. Checking the status of your Git repository doesn’t actually communicate with the remote repository to tell you what the current status is.\n",
    "\n",
    "\n"
   ]
  },
  {
   "cell_type": "markdown",
   "metadata": {},
   "source": [
    "One simple way to know if your local repo is out of date is to use the command `git remote show origin`.\n",
    "\n",
    "![13_git_remote_show_origin.png](assets/13_git_remote_show_origin.png)\n",
    "\n",
    "Notice the *local out of date* in the last line."
   ]
  },
  {
   "cell_type": "markdown",
   "metadata": {},
   "source": [
    "Finally, let's try the `git pull` command\n",
    "\n",
    "![14_git_pull.png](assets/14_git_pull.png)\n",
    "\n",
    "Let check that we have the latest commit with `git log`:\n",
    "\n",
    "![15_git_log_three_commits.png](assets/15_git_log_three_commits.png)\n",
    "\n"
   ]
  },
  {
   "cell_type": "markdown",
   "metadata": {},
   "source": [
    "You should now have an understanding of what 'git pull' and a bit of what is happening under the hood. Go and try out exercise 4."
   ]
  },
  {
   "cell_type": "markdown",
   "metadata": {},
   "source": [
    "## 5. Stash changes\n",
    "\n",
    "You already know how to save changes permanently in the repository: `git commit`! Now imagine the following (hypothetical) situation:\n",
    "\n",
    "You are midway through the development of Feature-X. You code is a complete tangled mess. You manager enters the room screaming at you to solve BUG-XPTO. The development of Feature-X is completely unrelated with the fixing of BUG-XPTO. You surely cannot commit, or you'll be ridiculed by your colleagues and never be asked to play darts again! So, what do you do?\n",
    "\n",
    "This is where `git stash` comes to the rescue. As I read somewhere: stash is like a clipboard on steroids!\n",
    "\n",
    "Stash saves all your *staged* and *unstaged* files (if you want to include *untracked* files you must add the `-u` or `--include-untracked` option) and saves them. You are left with a repository in the same state you left it when you committed your latest changes.\n",
    "\n",
    "I'll add a few changes to my local repo. Its status looks like this now:\n",
    "\n",
    "![16_git_status_before_stash.png](assets/16_git_status_before_stash.png)\n",
    "\n",
    "As you can see, I added 3 files and modified one. Since there are untracked files, I'll *stash* them using the `-u` option.\n",
    "\n",
    "![17_git_stash_and_git_status.png](assets/17_git_stash_and_git_status.png)\n",
    "\n",
    "Notice how the result of the stash identifies the latest commit of your local repo and how the status shows that there is nothing to commit.\n",
    "\n",
    "To get the changes out of your stash, you use the command `git stash pop`. The changes you stashed will be removed from the stash and applied to your local repository again.\n",
    "\n",
    "You can store multiple stashes, do partial stashes, *pop* specific stashes, and much more. But this is outside the scope of this SLU. What you've learned should be enough to keep you out of trouble :) \n",
    "\n",
    "Ok. On to exercise 5!"
   ]
  },
  {
   "cell_type": "markdown",
   "metadata": {},
   "source": [
    "# 6. Git branches\n",
    "\n",
    "In simple terms, a *branch* is a parallel version of the code that can be modified without affecting the other versions.\n",
    "\n",
    "When you work on a new functionality or fix a bug, you create a new branch to isolate your changes. This makes it harder for unstable code to find its way to the main code base. If this is true for a single person, imagine working on a team, where your teammates are working on the same code base (a.k.a. repository), but on different features or bug fixes. Life would be extremely hard without branching.\n",
    "\n",
    "Branching in Git is fast and easy and is strongly encouraged."
   ]
  },
  {
   "cell_type": "markdown",
   "metadata": {},
   "source": [
    "## 6.1. Concept of master branch\n",
    "\n",
    "The main branch in git is **master**. The master branch is created by Git when you create the repository. \n",
    "\n",
    "All the changes you do in the other branches should, sooner or later, be integrated (called *merging* in git) into the master branch. \n",
    "\n",
    "#### Do not mess with the master (pun intended)\n",
    "\n",
    "Why? Master is usually where your stable code lives. It's supposed to be your production ready code, that you can deploy at any moment. If you want to work on a new feature or experiment with something, you branch out. Only when you're sure the code is stable should it be merged to master. \n",
    "\n",
    "**Remember**:\n",
    "\n",
    "![18_push_to_master.jpeg](assets/18_push_to_master.jpeg)\n",
    "\n"
   ]
  },
  {
   "cell_type": "markdown",
   "metadata": {},
   "source": [
    "## 6.2. Creating and switching branches\n",
    "\n",
    "To demonstrate the use of branches let's pretend we want to work on two new features:\n",
    "- **Feature A** is a list of books we want to read\n",
    "- **Feature B** is a list of foods to try.\n",
    "\n",
    "We know better than to create these new features directly on master and we want to create two new branches, one for each of the features. "
   ]
  },
  {
   "cell_type": "markdown",
   "metadata": {},
   "source": [
    "### Feature A branch\n",
    "Let's start by creating the branch for Feature A. I'll name the branch **\"feature_a_books\"** and will create it by using the command `git branch <branch name>`.\n",
    "\n",
    "![19_git_create_branch.png](assets/19_git_create_branch.png)\n",
    "\n",
    "So, the `git branch <branch name>` has no output and status still says that we're on branch master. Did anything go wrong? No! Git branch just creates the branch but does not switch you to it. You continue to work in whatever branch you were before. To switch branches in git you use the command `git checkout <branch name>`. You can also list the branches with the command `git branch`. The branch identified with an `*` is the currently active one."
   ]
  },
  {
   "cell_type": "markdown",
   "metadata": {},
   "source": [
    "So, let's checkout to the newly created branch to make some changes.\n",
    "\n",
    "![20_git_checkout_feature_a.png](assets/20_git_checkout_feature_a.png)\n",
    "\n",
    "Now let's create a new file with some books to read, stage that file, and commit.\n",
    "\n",
    "![21_commit_feature_a.png](assets/21_commit_feature_a.png)\n",
    "\n",
    "All good it seems. Let's do the same for Feature B."
   ]
  },
  {
   "cell_type": "markdown",
   "metadata": {},
   "source": [
    "### Feature B branch\n",
    "\n",
    "To create the branch for Feature B I'll use the command `git checkout -b <branch name>`. The `-b` of the *checkout* command if very handy as it creates the branch and immediately makes it the active one. This is the most common way of creating a branch.\n",
    "\n",
    "![22_checkout_feature_b.png](assets/22_checkout_feature_b.png)"
   ]
  },
  {
   "cell_type": "markdown",
   "metadata": {},
   "source": [
    "New let's create a file with some foods, stage and commit it.\n",
    "\n",
    "![23_create_and_commit_foods.png](assets/23_create_and_commit_foods.png)\n"
   ]
  },
  {
   "cell_type": "markdown",
   "metadata": {},
   "source": [
    "Let's check the commits log on each of the branches:\n",
    "\n",
    "![24_git_log_branches.png](assets/24_git_log_branches.png)\n",
    "\n",
    "- **master** still has the same 3 commits\n",
    "- **feature_a_books** has a new commit with the message \"add books to read file\"\n",
    "- **feature_b_foods** has a new commit with the message \"add foods list\""
   ]
  },
  {
   "cell_type": "markdown",
   "metadata": {},
   "source": [
    "\n",
    "Git log can even show you a graph of the branches/commits, although there are tools better suited for this than the command line :)\n",
    "\n",
    "![25_graph_decorate.png](assets/25_graph_decorate.png)\n"
   ]
  },
  {
   "cell_type": "markdown",
   "metadata": {},
   "source": [
    "Let's compare one final thing on the three branches: the files on each one. I'll list only the files with the extension `.txt` to remove some clutter from the screen.\n",
    "\n",
    "![26_list_files_in_branches.png](assets/26_list_files_in_branches.png)\n",
    "\n",
    "- **master** has only the file `groceries.txt`\n",
    "- **feature_a_books** has the files `groceries.txt` and `books_to_read.txt`, which was added in the commit with the message \"add books to read file\"\n",
    "- **feature_b_foods** has the files `groceries.txt` and `foods_to_try.txt`, which was added in the commit with the message \"add foods list\"\n",
    "\n"
   ]
  },
  {
   "cell_type": "markdown",
   "metadata": {},
   "source": [
    "### Pushing the branches to the remote\n",
    "\n",
    "When you try to push a branch to the remote for the first time, you need to specify some extra options in the command. That's because the remote still doesn't know about the branch, it only exists in the local repository. Conveniently, git shows the exact syntax you should use when you `git push` a branch for the first time.\n",
    "\n",
    "Make sure that you have the correct branch checked before pushing\n",
    "\n",
    "![27_git_push_new_branch.png](assets/27_git_push_new_branch.png)"
   ]
  },
  {
   "cell_type": "markdown",
   "metadata": {},
   "source": [
    "The syntax for pushing a branch that does not exist in the remote is `git push --set-upstream origin <branch name>`. After the branch is created in the remote,`git push` is enough.\n",
    "\n",
    "After pushing, we can see the branches on Github.\n",
    "\n",
    "![28_github_branches.png](assets/28_github_branches.png)\n",
    "\n",
    "One final note regarding the creation of branches. When you create a new branch, it becomes a snapshot of the branch you created it from (where you \"branched off\"). The commits you have in the current branch will be \"copied\" to the new branch. After that, all commits done to one branch or the other, stay in that branch. You don't always need to create branches based on master, you can create a branch from any other branch.\n",
    "\n",
    "Exercise time! Go to the exercise notebook and solve exercise 6."
   ]
  },
  {
   "cell_type": "markdown",
   "metadata": {},
   "source": [
    "## 6.3. Merge branches\n",
    "\n",
    "![29_git_merge_battle.gif](assets/29_git_merge_battle.gif)\n"
   ]
  },
  {
   "cell_type": "markdown",
   "metadata": {},
   "source": [
    "We can't keep new features and commits in separate branches forever. We'll eventually want to integrate the changes from one branch to master (or another branch). This integration of branches is called **merging** and is done with the `git merge` command.\n",
    "\n",
    "It's very easy to perform a merge, but you must be careful to get the order of the operations correctly:\n",
    "1. **You checkout the branch that you want to merge into**. Ex: if you want to merge into master you checkout master.\n",
    "2. You call `git merge` with the name of the branch you want merged\n",
    "\n",
    "It's super easy to get this wrong as a beginner, and you'll find yourself searching through Stack Overflow answers on how to get out of the mess you just created.\n"
   ]
  },
  {
   "cell_type": "markdown",
   "metadata": {},
   "source": [
    "The next diagram shows the state of our repository before we created the two feature branches:\n",
    "\n",
    "![30_diagram_just_master.png](assets/30_diagram_just_master.png)\n",
    "\n",
    "The circles represent the commits and the rectangle shows the master branch pointing to the last commit.\n",
    "\n"
   ]
  },
  {
   "cell_type": "markdown",
   "metadata": {},
   "source": [
    "Now let's see what our repository looks like after we created the two feature branches:\n",
    "\n",
    "\n",
    "![31_diagram_two_branches.png](assets/31_diagram_two_branches.png)\n",
    "\n",
    "We see master still pointing to the same commit, and each one of the feature branches pointing the commit with the changes we made in that branch."
   ]
  },
  {
   "cell_type": "markdown",
   "metadata": {},
   "source": [
    "### Merging *feature_a_books* branch (fast-forward)\n",
    "Now let's merge the branch *feature_a_books* into *master*. To do that we run the following commands:\n",
    "```\n",
    "git checkout master\n",
    "git merge feature_a_books\n",
    "```\n",
    "And it should output something like:\n",
    "```\n",
    "Updating 52f0f1a..b17f0f8\n",
    "Fast-forward\n",
    " books_to_read.txt | 3 +++\n",
    " 1 file changed, 3 insertions(+)\n",
    " create mode 100644 books_to_read.txt\n",
    "```\n",
    "Notice the text *Fast-forward* above. I will explain that in a minute.\n",
    "\n",
    "`git log --oneline` should now output:\n",
    "```\n",
    "b17f0f8 (HEAD -> master, origin/feature_a_books, feature_a_books) add books to read file\n",
    "52f0f1a (origin/master, origin/HEAD) Add canned beans to my groceries\n",
    "74b7996 add groceries.txt file\n",
    "4ab27a7 Initial commit\n",
    "```\n",
    "Notice how both the *master* and *feature_a_books* branches are both pointing the commit **b17f0f8**. Git did this merge simply by adding the extra commit to the *master* branch. Since there was a linear path from the tip (latest commit) of *master* to the tip of *feature_a_books*, all git had to do was move the tip of *master* to the tip of *feature_a_books*. This is called a **fast-forward merge**. In other words, a fast-forward merge could happen because *master* did not have any extra commits compared to *feature_a_books*."
   ]
  },
  {
   "cell_type": "markdown",
   "metadata": {},
   "source": [
    "Our diagram, after merging, looks like this:\n",
    "\n",
    "\n",
    "![31_diagram_merge_feature_a.png](assets/31_diagram_merge_feature_a.png)"
   ]
  },
  {
   "cell_type": "markdown",
   "metadata": {},
   "source": [
    "### Merging *feature_b_foods* branch (3-way merge)\n",
    "\n",
    "Our repository looks like this now (I removed *feature_a_books* branch for simplicity):\n",
    "\n",
    "![32_diagram_before_3_way_merge.png](assets/32_diagram_before_3_way_merge.png)\n",
    "\n",
    "There isn't a linear path from *master* to *feature_b_books*, so a fast-forward merge will not be possible in this situation. These branches have diverged. *master* now has an extra commit that *feature_b_foods* doesn't have.\n",
    "\n",
    "Git will have to merge the branches using a 3-way merge. This creates a new *merging commit* on the active branch to join the two histories.\n",
    "\n",
    "We merge the two branches with our known commands:\n",
    "```\n",
    "git checkout master\n",
    "git merge feature_b_books\n",
    "```\n",
    "Git will open the text editor for us to enter the commit message. It should look something like this:\n",
    "```\n",
    "Merge branch 'feature_b_foods'\n",
    "\n",
    "# Please enter a commit message to explain why this merge is necessary,\n",
    "# especially if it merges an updated upstream into a topic branch.\n",
    "#\n",
    "# Lines starting with '#' will be ignored, and an empty message aborts\n",
    "# the commit.\n",
    "```\n",
    "\n",
    "We will save it as it is and exit the text editor, and then the following should show up in the command line:\n",
    "```\n",
    "Merge made by the 'recursive' strategy.\n",
    " foods_to_try.txt | 2 ++\n",
    " 1 file changed, 2 insertions(+)\n",
    " create mode 100644 foods_to_try.txt\n",
    "\n",
    "```\n",
    "\n",
    "The commit and merge are complete"
   ]
  },
  {
   "cell_type": "markdown",
   "metadata": {},
   "source": [
    "Let's look at the log to see what happened:\n",
    "```\n",
    "1f0f464 (HEAD -> master) Merge branch 'feature_b_foods'\n",
    "f90550e (origin/feature_b_foods, feature_b_foods) add foods list\n",
    "b17f0f8 (origin/feature_a_books, feature_a_books) add books to read file\n",
    "52f0f1a (origin/master, origin/HEAD) Add canned beans to my groceries\n",
    "74b7996 add groceries.txt file\n",
    "4ab27a7 Initial commit\n",
    "```\n",
    "\n",
    "A new commit (**1f0f464**) was created, and our local *master* branch is pointing to it. Notice that *origin/master* (the master branch in the remote repository) is still pointing to the commit **52f0f1a**. That is because we did all these merges in the local repo but didn't push them to the remote yet. I'll skip that part here the sake of brevity, but you should always do it.\n",
    "\n",
    "The resulting diagram after all the merges is:\n",
    "![33_diagram_merges_complete.png](assets/33_diagram_merges_complete.png)\n",
    "\n"
   ]
  },
  {
   "cell_type": "markdown",
   "metadata": {},
   "source": [
    "Take some time to be happy with yourself. Things will not always go so well!\n",
    "\n",
    "![35_git_merge_no_conflicts.jpeg](assets/35_git_merge_no_conflicts.jpeg)\n",
    "\n"
   ]
  },
  {
   "cell_type": "markdown",
   "metadata": {},
   "source": [
    "## 6.4. Merge conflicts\n",
    "\n",
    "\n",
    "![34_merge_conflict_is_comming.jpeg](assets/34_merge_conflict_is_comming.jpeg)"
   ]
  },
  {
   "cell_type": "markdown",
   "metadata": {},
   "source": [
    "Ahhhhh! The dreaded merge conflicts! First you hate them, then... Ok, you'll probably always hate them!\n",
    "\n",
    "Merge conflicts are common. My hope in this section is that you understand what they are, why they happen, and some simple strategies on how to solve them.\n",
    "\n",
    "Most of the time, git will be able to merge automatically, making the necessary changes to the affected files. But there are situations where it cannot make the decisions all by itself. Examples of these situations:\n",
    "- the branches you are trying to merge have changes in the same line of the same file\n",
    "- one branch deleted a file, and the other branch made modifications to that file\n",
    "\n",
    "They all go like this: two branches edit the same content in conflicting ways."
   ]
  },
  {
   "cell_type": "markdown",
   "metadata": {},
   "source": [
    "### Making a merge conflict"
   ]
  },
  {
   "cell_type": "markdown",
   "metadata": {},
   "source": [
    "I'll go ahead and make changes to my repo to force a merge conflict. No new commands here, just the usual stuff. I will create two new branches, and both will edit line 6 of the file *groceries.txt*. One branch will change it to \"- Chocolate ice-cream\" and the other to \"- Strawberry ice-cream\".\n",
    "```\n",
    "# start from master\n",
    "git checkout master\n",
    "git checkout -b chocolate\n",
    "# edit line 6 of groceries.txt to \"- Chocolate ice-cream\"\n",
    "git add groceries.txt\n",
    "git commit -m \"change Ice-cream to Chocolate ice-cream\"\n",
    "# we want both branches to be based off master, so we'll checkout master again\n",
    "git checkout master\n",
    "git checkout -b strawberry\n",
    "# edit line 6 of groceries.txt to \"- Strawberry ice-cream\"\n",
    "git add groceries.txt\n",
    "git commit -m \"change Ice-cream to Chocolate ice-cream\"\n",
    "```\n",
    "\n"
   ]
  },
  {
   "cell_type": "markdown",
   "metadata": {},
   "source": [
    "Now let's merge the branch *chocolate* into *master*.\n",
    "\n",
    "```\n",
    "git checkout master\n",
    "git merge chocolate\n",
    "```\n",
    "**It should be a fast-forward merge, without any conflict.**\n",
    "```\n",
    "Updating 1f0f464..0666af0\n",
    "Fast-forward\n",
    " groceries.txt | 2 +-\n",
    " 1 file changed, 1 insertion(+), 1 deletion(-)\n",
    "```\n",
    "\n",
    "Now the line 6 of the file \"groceries.txt\" in the branch *master* should have \"- Chocolate ice-cream\"\n"
   ]
  },
  {
   "cell_type": "markdown",
   "metadata": {},
   "source": [
    "Now let's merge *strawberry* into *master*.\n",
    "```\n",
    "# you should already be in master, so no need to checkout, but you never know :)\n",
    "git checkout master\n",
    "git merge strawberry\n",
    "```\n",
    "And BAM! **Merge conflict**!\n",
    "```\n",
    "Auto-merging groceries.txt\n",
    "CONFLICT (content): Merge conflict in groceries.txt\n",
    "Automatic merge failed; fix conflicts and then commit the result.\n",
    "```\n",
    "\n",
    "A conflict happened in the file *groceries.txt*. This is because line 6 changed from \"- Ice-cream\" to \"- Chocolate ice-cream\" in the branch *master* and from \"- Ice-cream\" to \"- Strawberry ice-cream\" in the branch *strawberry*. \n"
   ]
  },
  {
   "cell_type": "markdown",
   "metadata": {},
   "source": [
    "### Solving a merge conflict"
   ]
  },
  {
   "cell_type": "markdown",
   "metadata": {},
   "source": [
    "There are several ways you can go with solving merge conflicts. We'll explain a few.\n",
    "\n",
    "#### Abort the merge\n",
    "If you have no clue why the conflict is happening or are not sure which version you want to keep, abort the merge and go inspect the branches and try to gain some clarity. You abort a merge with the command `git merge --abort`. The merge is aborted, and it all goes back to the state it was before."
   ]
  },
  {
   "cell_type": "markdown",
   "metadata": {},
   "source": [
    "#### Checkout ours"
   ]
  },
  {
   "cell_type": "markdown",
   "metadata": {},
   "source": [
    "If you know that you want to keep the *master* version of the conflicted file and ignore the incoming changes, you use the command `git checkout --ours groceries.txt`.\n",
    "\n",
    "**ours** just means the branch you're in, in this example, it's *master*.\n",
    "\n",
    "After you do this, line 6 of the file should have \"- Chocolate ice-cream\".\n",
    "\n",
    "Note: even if you maintain your file with checkout ours, you still have to commit the file for the merge to be complete."
   ]
  },
  {
   "cell_type": "markdown",
   "metadata": {},
   "source": [
    "#### Checkout theirs\n",
    "If you know that you want to keep the *strawberry* version of the conflicted file and ignore the file in *master*, you use the command git checkout --theirs groceries.txt.\n",
    "\n",
    "**theirs** just means the incoming branch, in this example, it's *strawberry*.\n",
    "\n",
    "After you do this, line 6 of the file should have \"- Strawberry ice-cream\".\n",
    "\n",
    "You then have to commit the file for the merge to be complete."
   ]
  },
  {
   "cell_type": "markdown",
   "metadata": {},
   "source": [
    "#### Edit the conflicted file\n",
    "There are situations where you cannot simply choose *ours* or *theirs*:\n",
    "- If you are not sure what version to keep\n",
    "- want to keep both changes\n",
    "- there are multiple conflicts within the file and for some of them you want to keep *ours* and others what to keep *theirs*\n",
    "- etc.\n",
    "\n",
    "In this case you edit the conflicted file with a text editor. You should see something like this:\n",
    "\n",
    "```\n",
    "Quarantine Groceries:\n",
    "- Toilet paper\n",
    "- Popcorn\n",
    "- Coffee\n",
    "- Beer\n",
    "<<<<<<< HEAD\n",
    "- Chocolate ice-cream\n",
    "=======\n",
    "- Strawberry ice-cream\n",
    ">>>>>>> strawberry\n",
    "- Canned beans\n",
    "```\n",
    "\n",
    "Git annotates the conflicted file with git conflict markers, marking the areas where it needs help deciding what to do:\n",
    "- **`<<<<<<< HEAD`** identified the start of the section of the current branch\n",
    "- **`- Chocolate ice-cream`** this is the value committed in branch *master*\n",
    "- **`=======`** marks the end of the changes on *master* and the start of the changes in the incoming branch\n",
    "- **`- Strawberry ice-cream`** this is the value committed in the incoming branch\n",
    "- **`>>>>>>> strawberry`** marks the end of the changes in the incoming branch and identifies the branch\n",
    "\n",
    "You simply (ok, not always this simple) have to edit the file so that it looks exactly how you want it to. You have to get rid of the git conflict markers. We'll choose to keep both ice-creams, so our file will look like this:\n",
    "\n",
    "```\n",
    "Quarantine Groceries:\n",
    "- Toilet paper\n",
    "- Popcorn\n",
    "- Coffee\n",
    "- Beer\n",
    "- Chocolate ice-cream\n",
    "- Strawberry ice-cream\n",
    "- Canned beans\n",
    "```\n",
    "\n",
    "You then have to commit the file for the merge to be completed.\n",
    "\n",
    "A note about jupyter notebooks conflicts: although editing the file provides the most flexibility while merging, you'll find it tough to do it with jupyter notebook files. They are long `json` files, not easily read by human eyes. You're better off keeping to the *checkout ours* or *checkout theirs* methods."
   ]
  },
  {
   "cell_type": "markdown",
   "metadata": {},
   "source": [
    "You can now go and do **exercises 7 and 8**. These are the last and toughest exercises. Take your time with these ones and try to truly understand what you are doing. All you need to complete them is in this learning notebook."
   ]
  },
  {
   "cell_type": "markdown",
   "metadata": {},
   "source": [
    "# Final Remarks"
   ]
  },
  {
   "cell_type": "markdown",
   "metadata": {},
   "source": [
    "If you think that git is too hard, don't worry. Git IS hard!\n",
    "\n",
    "Common feeling working with git:"
   ]
  },
  {
   "cell_type": "markdown",
   "metadata": {},
   "source": [
    "![Come On](assets/99_come_on.gif \"segment\")"
   ]
  },
  {
   "cell_type": "markdown",
   "metadata": {},
   "source": [
    "All we can say is: \"Welcome aboard\". You can use git for years and still feel like this from time to time. \n",
    "\n",
    "If you stick to the recommendations we gave you in this notebook, you'll hopefully stay out of most trouble.\n",
    "\n",
    "The only way to get better at git is to use git. You don't learn git by just reading about git, the same way you don't learn how to ride a bike by reading about it. You have to suffer through it. Git is hard but it's also unavoidable in the software world. And things get much better over time :)\n",
    "\n",
    "There are plenty of resources in the internet about git. To get out of trouble you google search your problem and you almost always find a stack overflow answer for it. There are also websites with recipes to get out of common problems. One example follows:\n",
    "- https://ohshitgit.com/\n",
    "\n",
    "If you want to learn more about git (and there is much more to learn), again, there are lots of good resources in the internet. Here's two, from Atlassian and Git Tower, that are good:\n",
    "- https://www.atlassian.com/git/tutorials/what-is-version-control\n",
    "- https://www.git-tower.com/learn/git/ebook/en/command-line/basics/what-is-version-control#start\n",
    "\n",
    "\n",
    "Hope you enjoyed this SLU :)"
   ]
  },
  {
   "cell_type": "code",
   "execution_count": null,
   "metadata": {},
   "outputs": [],
   "source": []
  }
 ],
 "metadata": {
  "kernelspec": {
   "display_name": "Python 3",
   "language": "python",
   "name": "python3"
  },
  "language_info": {
   "codemirror_mode": {
    "name": "ipython",
    "version": 3
   },
   "file_extension": ".py",
   "mimetype": "text/x-python",
   "name": "python",
   "nbconvert_exporter": "python",
   "pygments_lexer": "ipython3",
   "version": "3.7.5"
  }
 },
 "nbformat": 4,
 "nbformat_minor": 2
}
