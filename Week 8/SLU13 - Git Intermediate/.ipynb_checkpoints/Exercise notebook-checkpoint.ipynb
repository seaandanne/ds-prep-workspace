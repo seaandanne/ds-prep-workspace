{
 "cells": [
  {
   "cell_type": "markdown",
   "metadata": {
    "deletable": false,
    "editable": false,
    "nbgrader": {
     "grade": false,
     "grade_id": "cell-c11e7dc9e72b1d3d",
     "locked": true,
     "schema_version": 3,
     "solution": false,
     "task": false
    }
   },
   "source": [
    "# SLU13 - Git Intermediate - Exercise notebook"
   ]
  },
  {
   "cell_type": "markdown",
   "metadata": {
    "deletable": false,
    "editable": false,
    "nbgrader": {
     "grade": false,
     "grade_id": "cell-7b43bad71ef158c7",
     "locked": true,
     "schema_version": 3,
     "solution": false,
     "task": false
    }
   },
   "source": [
    "## Start by importing these packages"
   ]
  },
  {
   "cell_type": "code",
   "execution_count": 1,
   "metadata": {
    "deletable": false,
    "editable": false,
    "nbgrader": {
     "grade": false,
     "grade_id": "cell-6ab73efc58786ccf",
     "locked": true,
     "schema_version": 3,
     "solution": false,
     "task": false
    }
   },
   "outputs": [],
   "source": [
    "# for evaluation purposes\n",
    "import hashlib\n",
    "def _hash(s):\n",
    "    return hashlib.blake2b(\n",
    "        bytes(str(s), encoding='utf8'),\n",
    "        digest_size=5\n",
    "    ).hexdigest()"
   ]
  },
  {
   "cell_type": "markdown",
   "metadata": {
    "deletable": false,
    "editable": false,
    "nbgrader": {
     "grade": false,
     "grade_id": "cell-9c1efc0560d7707e",
     "locked": true,
     "schema_version": 3,
     "solution": false,
     "task": false
    }
   },
   "source": [
    "# Exercise 1: Git remotes\n",
    "\n",
    "\n",
    "What is the main purpose of a remote repository?\n",
    "- A: Committing changes to your files.\n",
    "- B: Sharing work with your teammates.\n",
    "- C: To serve as a backup to your local files.\n"
   ]
  },
  {
   "cell_type": "code",
   "execution_count": 2,
   "metadata": {
    "deletable": false,
    "nbgrader": {
     "grade": false,
     "grade_id": "cell-acb1a32dbeb026ee",
     "locked": false,
     "schema_version": 3,
     "solution": true,
     "task": false
    }
   },
   "outputs": [],
   "source": [
    "# Uncomment the correct answer\n",
    "# exercise_1 = \"A\"\n",
    "exercise_1 = \"B\"\n",
    "# exercise_1 = \"C\"\n"
   ]
  },
  {
   "cell_type": "code",
   "execution_count": 3,
   "metadata": {
    "deletable": false,
    "editable": false,
    "nbgrader": {
     "grade": true,
     "grade_id": "cell-126db698519af9eb",
     "locked": true,
     "points": 0,
     "schema_version": 3,
     "solution": false,
     "task": false
    }
   },
   "outputs": [
    {
     "name": "stdout",
     "output_type": "stream",
     "text": [
      "---- all asserts passed ---- \n"
     ]
    }
   ],
   "source": [
    "assert _hash(exercise_1) == '90a8cbb480', (\n",
    "    'Not quite right! Review Section 1 of the Learning Notebook.') \n",
    "\n",
    "print(\"---- all asserts passed ---- \")"
   ]
  },
  {
   "cell_type": "markdown",
   "metadata": {
    "deletable": false,
    "editable": false,
    "nbgrader": {
     "grade": false,
     "grade_id": "cell-4bf47b6d712648c6",
     "locked": true,
     "schema_version": 3,
     "solution": false,
     "task": false
    }
   },
   "source": [
    "# Exercise 2: Git remotes\n",
    "\n",
    "Did your review how to create and clone a repository [here](https://github.com/LDSSA/ds-prep-course#setup-git-and-github)? Good!\n",
    "\n",
    "Go to [Github](https://github.com/), and create a new repository called *SLU13* and then clone it to your machine.\n",
    "\n",
    "It's the same thing you did for setting up the *ds-prep-workspace* repository, but with a different name:\n",
    "1. You don't need to setup git and Github again, that part is already covered\n",
    "2. Follow the instruction on [Setup your Workspace Repository](https://github.com/LDSSA/ds-prep-course#setup-your-workspace-repository), but name your repository *SLU13*\n",
    "3. Follow the instruction on [Cloning the workspace](https://github.com/LDSSA/ds-prep-course#cloning-the-workspace) for cloning the remote repository into your machine.\n",
    "\n",
    "That's it for this exercise. We will use this new repository for the remaining exercises"
   ]
  },
  {
   "cell_type": "markdown",
   "metadata": {
    "deletable": false,
    "editable": false,
    "nbgrader": {
     "grade": false,
     "grade_id": "cell-d9ba0c7e7bec36f7",
     "locked": true,
     "schema_version": 3,
     "solution": false,
     "task": false
    }
   },
   "source": [
    "# Exercise 3: Pushing changes into remote repository\n",
    "\n",
    "Do the following workflow:\n",
    "1. On your local *SLU13* repository, create a groceries.txt file and add some grocery items to it\n",
    "    1. you can add more files if you want to\n",
    "2. Stage and commit your changes\n",
    "3. Do some other change to your files\n",
    "4. Stage and commit your changes\n",
    "5. Verify, by using `git status` and `git log`, that you have 2 commits in the local repository that are not in the remote repository\n",
    "6. Push the changes to the remote repository\n",
    "7. Verify, by using `git status` and `git log`, that your local and remote repositories are in sync.\n",
    "\n",
    "You don't have to follow the exact workflow above. Feel free to experiment on this one :) The idea is to get used to the commands. You will use them a lot, so start getting that muscle memory now."
   ]
  },
  {
   "cell_type": "markdown",
   "metadata": {
    "deletable": false,
    "editable": false,
    "nbgrader": {
     "grade": false,
     "grade_id": "cell-499591cf5b0b4146",
     "locked": true,
     "schema_version": 3,
     "solution": false,
     "task": false
    }
   },
   "source": [
    " # Exercise 4. Pulling changes from remote\n",
    " \n",
    " Try to do the same workflow we did on the learning notebook:\n",
    " 1. Use your browser to go to your *SLU* repository on Github (probably `https://github.com/<your_github_userid_here>/SLU13`)\n",
    " 2. Edit your groceries.txt file\n",
    " 3. Commit your changes\n",
    " 4. Check that `git status` and `git log` don't show any differences. If you feel like it, disconnect your computer from the network and check that those commands keep working :)\n",
    " 5. Try using `git remote` to check if the repositories are synched\n",
    " 6. Pull the changes you did in the remote into your local repository "
   ]
  },
  {
   "cell_type": "markdown",
   "metadata": {
    "deletable": false,
    "editable": false,
    "nbgrader": {
     "grade": false,
     "grade_id": "cell-66b275804ccf56ab",
     "locked": true,
     "schema_version": 3,
     "solution": false,
     "task": false
    }
   },
   "source": [
    " # Exercise 5. Stash Changes\n",
    " \n",
    " Try the following workflow:\n",
    " 1. Create a new file named *books.txt*\n",
    " 2. Add a few books you'd like to read during the quarantine\n",
    " 3. Stash the changes (hint: remember that stash does not save untracked files)\n",
    " 4. Add a new item to the *groceries.txt* file\n",
    " 5. Commit those changes\n",
    " 6. Pop the changes you have in the stash\n",
    " 7. Add some more books if you want to and, when you're ready, commit\n",
    " 6. Check, using whatever method you like, that the local repository is 2 commits ahead of the remote repository\n",
    " 7. Push the commits to the remote repository"
   ]
  },
  {
   "cell_type": "markdown",
   "metadata": {
    "deletable": false,
    "editable": false,
    "nbgrader": {
     "grade": false,
     "grade_id": "cell-eeaeddff2a6e1b86",
     "locked": true,
     "schema_version": 3,
     "solution": false,
     "task": false
    }
   },
   "source": [
    " # Exercise 6. Create and push branches\n",
    " \n",
    " Try the following workflow:\n",
    " \n",
    " 1. Create a new branch based on **master**\n",
    " 2. In the new branch create a new file **foods_to_try.txt** and add some content to it\n",
    " 3. Commit the changes and push the branch to the remote\n",
    " 4. Check on github that the branch is there"
   ]
  },
  {
   "cell_type": "markdown",
   "metadata": {
    "deletable": false,
    "editable": false,
    "nbgrader": {
     "grade": false,
     "grade_id": "cell-55b2da60c9131fae",
     "locked": true,
     "schema_version": 3,
     "solution": false,
     "task": false
    }
   },
   "source": [
    "# Exercise 7. Merging branches\n",
    "\n",
    "I'm leaving out a lot of step by step instructions in this exercise and the next one. You should by now understand what you have to do. Try the following:\n",
    "\n",
    "1. Merge the branch you created on exercise 6 into *master*. Verify that it was a fast-forward merge.\n",
    "2. Do a 3-way merge of a branch into master. This might be a tough one. Go through the learning notebook carefully. Everything you need is in there.\n",
    "3. Push *master* to the remote.\n",
    "4. (Bonus): Do a google search on how to delete a branch and delete the branches you created, both on the local repository and the remote."
   ]
  },
  {
   "cell_type": "markdown",
   "metadata": {},
   "source": [
    "# Exercise 8. Merge conflicts\n",
    "One-liner for this one:\n",
    "\n",
    "- Create a merge conflict and solve it any way you like. Extra points if you solve it using several methods. Tip: you can use `git merge --abort` before committing and use the same conflict again and again.\n"
   ]
  },
  {
   "cell_type": "code",
   "execution_count": null,
   "metadata": {},
   "outputs": [],
   "source": []
  },
  {
   "cell_type": "code",
   "execution_count": null,
   "metadata": {},
   "outputs": [],
   "source": []
  },
  {
   "cell_type": "code",
   "execution_count": null,
   "metadata": {},
   "outputs": [],
   "source": []
  },
  {
   "cell_type": "code",
   "execution_count": null,
   "metadata": {},
   "outputs": [],
   "source": []
  }
 ],
 "metadata": {
  "kernelspec": {
   "display_name": "Python 3",
   "language": "python",
   "name": "python3"
  },
  "language_info": {
   "codemirror_mode": {
    "name": "ipython",
    "version": 3
   },
   "file_extension": ".py",
   "mimetype": "text/x-python",
   "name": "python",
   "nbconvert_exporter": "python",
   "pygments_lexer": "ipython3",
   "version": "3.6.9"
  }
 },
 "nbformat": 4,
 "nbformat_minor": 2
}
