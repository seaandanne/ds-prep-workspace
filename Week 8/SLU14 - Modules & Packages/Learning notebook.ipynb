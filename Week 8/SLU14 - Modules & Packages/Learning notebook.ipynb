{
 "cells": [
  {
   "cell_type": "markdown",
   "metadata": {},
   "source": [
    "# SLU14 - Modules and Packages "
   ]
  },
  {
   "cell_type": "markdown",
   "metadata": {},
   "source": [
    "In this notebook we will be covering the following:   \n",
    " \n",
    "- Modules   \n",
    "- Packages"
   ]
  },
  {
   "cell_type": "markdown",
   "metadata": {},
   "source": [
    "## 1 Modules Definition"
   ]
  },
  {
   "cell_type": "markdown",
   "metadata": {},
   "source": [
    "A software project can have tons of components. Some of those components might depend on each other to execute tasks. \n",
    "When projects start to get big, if we don't organize our code well, it can get very hard to debug, maintain and scale. A task that would take a day can easily take a week if the code is not well structured, wasting a lot of time and money. \n",
    "To avoid such situations, we should plan our project ahead. It should be organized by component. The components should be independent from each other and have no duplicated code. \n",
    "\n",
    "One way of organizing our code is to divide it in modules. We can think on a module as a \"sub-program\".  Each module should be responsible for one function of the software. And modules can depend on each other to execute a bigger task. "
   ]
  },
  {
   "cell_type": "markdown",
   "metadata": {},
   "source": [
    "Think about this analogy. We want to build a circuit that is able to turn a LED on and off. For that, we need 4 components:   \n",
    "- __Battery__, our source of electricity;   \n",
    "- __Resistor__, so that our LED doesn't get burned; believe me, we need that;\n",
    "- __Switch__,  to turn the light on and off;\n",
    "- __LED__, to see the light;"
   ]
  },
  {
   "cell_type": "markdown",
   "metadata": {},
   "source": [
    "<img src=\"data/circuit.png\" width=\"300\" height=\"150\" >"
   ]
  },
  {
   "cell_type": "markdown",
   "metadata": {},
   "source": [
    "All these pieces are responsible for one distinct function, but all of them combined enable us to achieve a final goal, which is to create light!"
   ]
  },
  {
   "cell_type": "markdown",
   "metadata": {},
   "source": [
    "<img src=\"data/light.jpg\" width=\"300\" height=\"150\" >"
   ]
  },
  {
   "cell_type": "markdown",
   "metadata": {},
   "source": [
    "With this, we can think about components of a circuit as distinct modules that can be used and combined with other components/modules, in a circuit/software, to achieve a goal."
   ]
  },
  {
   "cell_type": "markdown",
   "metadata": {},
   "source": [
    "## 2 Packages Definition"
   ]
  },
  {
   "cell_type": "markdown",
   "metadata": {},
   "source": [
    "A package is a set of modules, dedicated to a single functionality, that can be installed and used in other software.    "
   ]
  },
  {
   "cell_type": "markdown",
   "metadata": {},
   "source": [
    "Imagine that we want to produce battery LED lamps that looks like the following: "
   ]
  },
  {
   "cell_type": "markdown",
   "metadata": {},
   "source": [
    "<img src=\"data/lamp.jpg\" width=\"300\" height=\"150\" >"
   ]
  },
  {
   "cell_type": "markdown",
   "metadata": {},
   "source": [
    "In order to produce it, we will need the following elements:   \n",
    "\n",
    "__Electrical components__    \n",
    "\n",
    "- Battery;\n",
    "- Switch;\n",
    "- LED;\n",
    "- Resistor;\n",
    "\n",
    "__Raw Materials__   \n",
    "\n",
    "- Metal;\n",
    "- Plastic; "
   ]
  },
  {
   "cell_type": "markdown",
   "metadata": {},
   "source": [
    "We have multiple options here. We can make our elements from scratch or we can buy them from providers."
   ]
  },
  {
   "cell_type": "markdown",
   "metadata": {},
   "source": [
    "It would be much more viable if we go to one provider that is an expert in developing `electrical components` to buy all the elements, ready to use, that we need to build the electric system: `batteries`, `switches`, `LEDs` and `resistors`. And go to a different provider to buy the `raw materials` needed to support the electric system: `Metal` and `Plastic`. "
   ]
  },
  {
   "cell_type": "markdown",
   "metadata": {},
   "source": [
    "Think of the set of tasks that we need to do in order to build our `lamp`, as a piece of software that we are  developing. In that sense, `electrical components` and `raw materials` are the `packages` that we need to install, in our environment, in order to use the set of `modules` {`battery` `switch` `LED`, `Resistor`} and {`metal`, `plastic`},  respectively. These modules are ready to use, the code that we need to develop in our software is what is needed to integrate all these components together. "
   ]
  },
  {
   "cell_type": "markdown",
   "metadata": {},
   "source": [
    "## 3 Modules in Python"
   ]
  },
  {
   "cell_type": "markdown",
   "metadata": {},
   "source": [
    "### 3.1 Definition"
   ]
  },
  {
   "cell_type": "markdown",
   "metadata": {},
   "source": [
    "When our programs start to scale, in order to keep it organized and easier to maintain, we should separate logical parts of our programs by files. It should be in a way that it doesn't have duplicated code and it can be imported and used in other files."
   ]
  },
  {
   "cell_type": "markdown",
   "metadata": {},
   "source": [
    "A python module is nothing more than a file with `.py` extension, a python file. "
   ]
  },
  {
   "cell_type": "markdown",
   "metadata": {},
   "source": [
    "In order to use the code inside each module in other pieces of software, our code inside the module should be organized in attributes. Attributes of a module are classes, functions and variables."
   ]
  },
  {
   "cell_type": "markdown",
   "metadata": {},
   "source": [
    "These attributes of modules can be imported and used in other pieces of software.      "
   ]
  },
  {
   "cell_type": "markdown",
   "metadata": {},
   "source": [
    "### 3.2 Types of Modules"
   ]
  },
  {
   "cell_type": "markdown",
   "metadata": {},
   "source": [
    "We can classify modules in 3 types:"
   ]
  },
  {
   "cell_type": "markdown",
   "metadata": {},
   "source": [
    "#### Type 1: Modules that belong to our current project    \n",
    "Modules that are stored on the same directory as you are working on. Because of that, they are only available for the project you are working on. Normally these kinds of modules are the ones developed by us and that belong to the scope of the project.        \n",
    "__Location:__ The current directory of the project where we want to use the module."
   ]
  },
  {
   "cell_type": "markdown",
   "metadata": {},
   "source": [
    "#### Type 2: Modules stored on PYTHONPATH\n",
    "Modules that are stored in one of the directories assigned to the shell variable `PYTHONPATH`. Here we have the path to  python environments. In python environments, modules are managed by `pip`. These modules are available in the environment on which they were installed. If you switch projects but keep working on the same environment, these modules are still available. These modules are usually external dependencies and can be used in different types of projects.     \n",
    "__Location__: The directories assigned to the shell variable `PYTHONPATH`.       "
   ]
  },
  {
   "cell_type": "markdown",
   "metadata": {},
   "source": [
    "#### Type 3: Modules that come with python\n",
    "Built-in modules, that are common to all python environments that share the same version. We don't need to do anything to have them available;     \n",
    "__Location:__ The default directory of python, normally `/usr/local/lib/python`;  "
   ]
  },
  {
   "cell_type": "markdown",
   "metadata": {},
   "source": [
    "### 3.3 Import Statement"
   ]
  },
  {
   "cell_type": "markdown",
   "metadata": {},
   "source": [
    "In order to use modules' attributes in our code, like notebooks or other python modules, we need to import those attributes in the file where we are working on."
   ]
  },
  {
   "cell_type": "markdown",
   "metadata": {},
   "source": [
    "You have seen a lot of `import` statements so far. Import statements are used to find and run a python module so it can be used in the current code."
   ]
  },
  {
   "cell_type": "markdown",
   "metadata": {},
   "source": [
    "To maximize clarity and readability, you should always write your import statements at the beginning of the file. "
   ]
  },
  {
   "cell_type": "markdown",
   "metadata": {},
   "source": [
    "When we type an import statement, python searches for that module first in the current directory of the file where we have the import, then in the PYTHONPATH and finally in the python default directory.    \n",
    "The logic of the import statement is the same, regardless of the module's location."
   ]
  },
  {
   "cell_type": "markdown",
   "metadata": {},
   "source": [
    "We will use the __type 1__ modules to explain import statements."
   ]
  },
  {
   "cell_type": "markdown",
   "metadata": {},
   "source": [
    "Let's use the magic `tree` Unix command to see what are the folders and files that share the same directory as this `Learning Notebook.ipynb`."
   ]
  },
  {
   "cell_type": "code",
   "execution_count": 54,
   "metadata": {},
   "outputs": [
    {
     "name": "stdout",
     "output_type": "stream",
     "text": [
      "\u001b[01;34m.\u001b[00m\r\n",
      "├── \u001b[01;34mdata\u001b[00m\r\n",
      "│   ├── \u001b[01;35mcircuit.png\u001b[00m\r\n",
      "│   ├── \u001b[01;35mlamp.jpg\u001b[00m\r\n",
      "│   └── \u001b[01;35mlight.jpg\u001b[00m\r\n",
      "├── Exercise notebook.ipynb\r\n",
      "├── \u001b[01;34mfolder_v2\u001b[00m\r\n",
      "│   └── module_v2.py\r\n",
      "├── \u001b[01;34mfolder_v3\u001b[00m\r\n",
      "│   └── \u001b[01;34msub_folder_v3\u001b[00m\r\n",
      "│       └── module_v3.py\r\n",
      "├── Learning notebook.ipynb\r\n",
      "├── \u001b[01;34mlibrary\u001b[00m\r\n",
      "│   └── \u001b[01;34mshelf\u001b[00m\r\n",
      "│       └── book.py\r\n",
      "├── module_v1.py\r\n",
      "├── module_v4.py\r\n",
      "├── README.md\r\n",
      "├── requirements.txt\r\n",
      "├── \u001b[01;34mshapes\u001b[00m\r\n",
      "│   ├── circle.py\r\n",
      "│   ├── __init__.py\r\n",
      "│   ├── LICENSE\r\n",
      "│   ├── README.md\r\n",
      "│   ├── setup.py\r\n",
      "│   └── square.py\r\n",
      "└── utils.py\r\n",
      "\r\n",
      "7 directories, 19 files\r\n"
     ]
    }
   ],
   "source": [
    "#unix command\n",
    "!tree"
   ]
  },
  {
   "cell_type": "markdown",
   "metadata": {},
   "source": [
    "And the code inside files `module_v1.py`, `module_v2.py` and `module_v3.py` is the following (these files have the same content, so we will just print one of them):"
   ]
  },
  {
   "cell_type": "code",
   "execution_count": 2,
   "metadata": {},
   "outputs": [
    {
     "name": "stdout",
     "output_type": "stream",
     "text": [
      "class House:\r\n",
      "\r\n",
      "    def __init__(self, price, area, location):\r\n",
      "        self.price = price\r\n",
      "        self.area = area\r\n",
      "        self.location = location\r\n",
      "\r\n",
      "    def calculate_price_square_meter(self):\r\n",
      "        return self.price/self.area\r\n",
      "\r\n",
      "def avg_price(list_houses, location):\r\n",
      "    count = 0\r\n",
      "    sum_price = 0\r\n",
      "    for house in list_houses:\r\n",
      "        if house.location == location:\r\n",
      "            count+=1\r\n",
      "            sum_price+=house.calculate_price_square_meter()\r\n",
      "    return sum_price/count\r\n",
      "\r\n",
      "location = \"Coimbra\"  \r\n",
      " \r\n"
     ]
    }
   ],
   "source": [
    "# this unix command prints what is inside a file\n",
    "!cat module_v1.py"
   ]
  },
  {
   "cell_type": "markdown",
   "metadata": {},
   "source": [
    " These files have `.py` extensions. That means that they are python modules, module `module_v1`, `module_v2` and `module_v3` respectively."
   ]
  },
  {
   "cell_type": "markdown",
   "metadata": {},
   "source": [
    "Those modules have as attributes a class `House`, a function `avg_price` and a variable `location`. "
   ]
  },
  {
   "cell_type": "markdown",
   "metadata": {},
   "source": [
    "#### 3.3.1 Import module_name"
   ]
  },
  {
   "cell_type": "markdown",
   "metadata": {},
   "source": [
    "If we want to use all the attributes from `module_v1`(that is inside the same directory as this Notebook), we need to import them in the following way:"
   ]
  },
  {
   "cell_type": "code",
   "execution_count": 3,
   "metadata": {},
   "outputs": [],
   "source": [
    "import module_v1"
   ]
  },
  {
   "cell_type": "markdown",
   "metadata": {},
   "source": [
    "Now we can use the attributes inside the file in the following way:"
   ]
  },
  {
   "cell_type": "code",
   "execution_count": 4,
   "metadata": {},
   "outputs": [],
   "source": [
    "house_coimbra_n1 = module_v1.House(100000, 100, \"Coimbra\")\n",
    "house_coimbra_n2 = module_v1.House(130000, 125, \"Coimbra\")"
   ]
  },
  {
   "cell_type": "code",
   "execution_count": 5,
   "metadata": {},
   "outputs": [
    {
     "data": {
      "text/plain": [
       "1020.0"
      ]
     },
     "execution_count": 5,
     "metadata": {},
     "output_type": "execute_result"
    }
   ],
   "source": [
    "# now let's calculate the house prices in Coimbra\n",
    "houses_coimbra = [house_coimbra_n1, house_coimbra_n2]\n",
    "module_v1.avg_price(houses_coimbra, module_v1.location)"
   ]
  },
  {
   "cell_type": "code",
   "execution_count": 6,
   "metadata": {},
   "outputs": [
    {
     "data": {
      "text/plain": [
       "'Coimbra'"
      ]
     },
     "execution_count": 6,
     "metadata": {},
     "output_type": "execute_result"
    }
   ],
   "source": [
    "# print location\n",
    "module_v1.location"
   ]
  },
  {
   "cell_type": "code",
   "execution_count": 7,
   "metadata": {},
   "outputs": [],
   "source": [
    "# let's remove the module so we can import the module again with another syntax\n",
    "del module_v1"
   ]
  },
  {
   "cell_type": "markdown",
   "metadata": {},
   "source": [
    "#### 3.3.2 Import module_name as other_name"
   ]
  },
  {
   "cell_type": "markdown",
   "metadata": {},
   "source": [
    "If for better readability, you prefer to refer to your module as `module` instead of `module_v1`, we can use the `as` statement to create an __alias__:"
   ]
  },
  {
   "cell_type": "code",
   "execution_count": 8,
   "metadata": {},
   "outputs": [],
   "source": [
    "import module_v1 as module"
   ]
  },
  {
   "cell_type": "code",
   "execution_count": 9,
   "metadata": {},
   "outputs": [
    {
     "data": {
      "text/plain": [
       "'Coimbra'"
      ]
     },
     "execution_count": 9,
     "metadata": {},
     "output_type": "execute_result"
    }
   ],
   "source": [
    "module.location"
   ]
  },
  {
   "cell_type": "markdown",
   "metadata": {},
   "source": [
    "As we can see, it still works in the same way, but now the module has a different name."
   ]
  },
  {
   "cell_type": "code",
   "execution_count": 10,
   "metadata": {},
   "outputs": [],
   "source": [
    "# let's remove the module so we can import the module again with another syntax\n",
    "del module"
   ]
  },
  {
   "cell_type": "markdown",
   "metadata": {},
   "source": [
    "#### 3.3.3 from module_name import attribute"
   ]
  },
  {
   "cell_type": "markdown",
   "metadata": {},
   "source": [
    "We can also explicitly import only the attributes we want to use. Imagine we only want to use the class `House` on our code, we can simply do:"
   ]
  },
  {
   "cell_type": "code",
   "execution_count": 11,
   "metadata": {},
   "outputs": [],
   "source": [
    "from module_v1 import House"
   ]
  },
  {
   "cell_type": "code",
   "execution_count": 12,
   "metadata": {},
   "outputs": [],
   "source": [
    "# now we need to write module_v1.House, just House\n",
    "house_coimbra_n3 = House(200000, \"1200\", \"Coimbra\")\n",
    "house_coimbra_n4 = House(300000, \"2200\", \"Coimbra\")"
   ]
  },
  {
   "cell_type": "markdown",
   "metadata": {},
   "source": [
    "But if we try to use `location` or `avg_price`, it will fail."
   ]
  },
  {
   "cell_type": "code",
   "execution_count": 13,
   "metadata": {},
   "outputs": [
    {
     "name": "stdout",
     "output_type": "stream",
     "text": [
      "Error: name 'avg_price' is not defined\n",
      "Error: name 'location' is not defined\n"
     ]
    }
   ],
   "source": [
    "try:\n",
    "    print(avg_price([house_coimbra_n3, house_coimbra_n4]))\n",
    "except Exception as e:\n",
    "    print(\"Error: \" + str(e))\n",
    "\n",
    "try:\n",
    "    print(location)\n",
    "except Exception as e:\n",
    "    print(\"Error: \" + str(e))"
   ]
  },
  {
   "cell_type": "markdown",
   "metadata": {},
   "source": [
    "From the cell above we can see that `avg_price` and `location` were not defined."
   ]
  },
  {
   "cell_type": "code",
   "execution_count": 14,
   "metadata": {},
   "outputs": [],
   "source": [
    "# let's remove the attribute imported from module_v1\n",
    "del House"
   ]
  },
  {
   "cell_type": "markdown",
   "metadata": {},
   "source": [
    "#### 3.3.4 from module_name import *"
   ]
  },
  {
   "cell_type": "markdown",
   "metadata": {},
   "source": [
    "Instead of explicitly importing each attribute of a module, we can also say that we want to import all the attributes inside the module. However, this is considered a bad practice, because we lose track of what is being imported and where it is being imported from, if we have multiple of these statements."
   ]
  },
  {
   "cell_type": "code",
   "execution_count": 15,
   "metadata": {},
   "outputs": [],
   "source": [
    "# bad practice\n",
    "from module_v1 import *"
   ]
  },
  {
   "cell_type": "code",
   "execution_count": 16,
   "metadata": {},
   "outputs": [
    {
     "data": {
      "text/plain": [
       "'Coimbra'"
      ]
     },
     "execution_count": 16,
     "metadata": {},
     "output_type": "execute_result"
    }
   ],
   "source": [
    "location"
   ]
  },
  {
   "cell_type": "markdown",
   "metadata": {},
   "source": [
    "It the case above, we are importing all attributes (classes, functions and variables) that are declared in the `module_v1.py` file. "
   ]
  },
  {
   "cell_type": "markdown",
   "metadata": {},
   "source": [
    "#### 3.3.5 from folder_name Import module_name"
   ]
  },
  {
   "cell_type": "markdown",
   "metadata": {},
   "source": [
    "As we saw before, `module_v1` is inside the same directory as this `Learning Notebook.ipynb`. But that is not the case for `module_v2` and `module_v3`. These two modules are inside child directories.\n",
    "In order to access them, we need to tell python how to get there with the `from` statement and/or `.` notation. "
   ]
  },
  {
   "cell_type": "markdown",
   "metadata": {},
   "source": [
    "`module_2` is inside `folder_v2`. The folder where the module is stored belongs to the directory of the current file (project directory). "
   ]
  },
  {
   "cell_type": "code",
   "execution_count": 17,
   "metadata": {},
   "outputs": [],
   "source": [
    "#from notation\n",
    "from folder_v2 import module_v2"
   ]
  },
  {
   "cell_type": "code",
   "execution_count": 18,
   "metadata": {},
   "outputs": [
    {
     "data": {
      "text/plain": [
       "'Coimbra'"
      ]
     },
     "execution_count": 18,
     "metadata": {},
     "output_type": "execute_result"
    }
   ],
   "source": [
    "module_v2.location"
   ]
  },
  {
   "cell_type": "code",
   "execution_count": 19,
   "metadata": {},
   "outputs": [],
   "source": [
    "#delete imported module\n",
    "del module_v2"
   ]
  },
  {
   "cell_type": "markdown",
   "metadata": {},
   "source": [
    "#### 3.3.6 Import folder_name.module_name"
   ]
  },
  {
   "cell_type": "code",
   "execution_count": 20,
   "metadata": {},
   "outputs": [],
   "source": [
    "# dot notation\n",
    "import folder_v2.module_v2"
   ]
  },
  {
   "cell_type": "code",
   "execution_count": 21,
   "metadata": {},
   "outputs": [
    {
     "data": {
      "text/plain": [
       "'Coimbra'"
      ]
     },
     "execution_count": 21,
     "metadata": {},
     "output_type": "execute_result"
    }
   ],
   "source": [
    "# this way is not very readable\n",
    "folder_v2.module_v2.location"
   ]
  },
  {
   "cell_type": "markdown",
   "metadata": {},
   "source": [
    "#### 3.3.7 from folder_name.module_name import attribute"
   ]
  },
  {
   "cell_type": "code",
   "execution_count": 22,
   "metadata": {},
   "outputs": [],
   "source": [
    "# from and dot notation\n",
    "from folder_v2.module_v2 import location"
   ]
  },
  {
   "cell_type": "code",
   "execution_count": 23,
   "metadata": {},
   "outputs": [
    {
     "data": {
      "text/plain": [
       "'Coimbra'"
      ]
     },
     "execution_count": 23,
     "metadata": {},
     "output_type": "execute_result"
    }
   ],
   "source": [
    "location"
   ]
  },
  {
   "cell_type": "code",
   "execution_count": 24,
   "metadata": {},
   "outputs": [],
   "source": [
    "# delete location\n",
    "del location"
   ]
  },
  {
   "cell_type": "markdown",
   "metadata": {},
   "source": [
    "#### 3.3.8 import folder_name"
   ]
  },
  {
   "cell_type": "markdown",
   "metadata": {},
   "source": [
    "Let's now try to import the entire `folder_v2` at once."
   ]
  },
  {
   "cell_type": "code",
   "execution_count": 25,
   "metadata": {},
   "outputs": [],
   "source": [
    "import folder_v2"
   ]
  },
  {
   "cell_type": "code",
   "execution_count": 26,
   "metadata": {},
   "outputs": [
    {
     "data": {
      "text/plain": [
       "'Coimbra'"
      ]
     },
     "execution_count": 26,
     "metadata": {},
     "output_type": "execute_result"
    }
   ],
   "source": [
    "folder_v2.module_v2.location"
   ]
  },
  {
   "cell_type": "code",
   "execution_count": 27,
   "metadata": {},
   "outputs": [],
   "source": [
    "del folder_v2"
   ]
  },
  {
   "cell_type": "markdown",
   "metadata": {},
   "source": [
    "#### 3.3.9 from folder_name.sub_folder_name import module_name"
   ]
  },
  {
   "cell_type": "markdown",
   "metadata": {},
   "source": [
    "`module_3` is inside `sub_folder_v3`, and this folder is inside `folder_v3`. `folder_v3` belongs to the directory of the current file (project directory). "
   ]
  },
  {
   "cell_type": "code",
   "execution_count": 28,
   "metadata": {},
   "outputs": [],
   "source": [
    "# from and dot notation\n",
    "from folder_v3.sub_folder_v3 import module_v3"
   ]
  },
  {
   "cell_type": "code",
   "execution_count": 29,
   "metadata": {},
   "outputs": [
    {
     "data": {
      "text/plain": [
       "'Coimbra'"
      ]
     },
     "execution_count": 29,
     "metadata": {},
     "output_type": "execute_result"
    }
   ],
   "source": [
    "module_v3.location"
   ]
  },
  {
   "cell_type": "code",
   "execution_count": 30,
   "metadata": {},
   "outputs": [],
   "source": [
    "del module_v3"
   ]
  },
  {
   "cell_type": "markdown",
   "metadata": {},
   "source": [
    "#### 3.3.10 import folder_name.sub_folder_name.module_name"
   ]
  },
  {
   "cell_type": "code",
   "execution_count": 31,
   "metadata": {},
   "outputs": [],
   "source": [
    "# dot notation\n",
    "import folder_v3.sub_folder_v3.module_v3"
   ]
  },
  {
   "cell_type": "code",
   "execution_count": 32,
   "metadata": {},
   "outputs": [
    {
     "data": {
      "text/plain": [
       "'Coimbra'"
      ]
     },
     "execution_count": 32,
     "metadata": {},
     "output_type": "execute_result"
    }
   ],
   "source": [
    "# again, this way is not very readable\n",
    "folder_v3.sub_folder_v3.module_v3.location"
   ]
  },
  {
   "cell_type": "code",
   "execution_count": 33,
   "metadata": {},
   "outputs": [],
   "source": [
    "del folder_v3.sub_folder_v3.module_v3"
   ]
  },
  {
   "cell_type": "markdown",
   "metadata": {},
   "source": [
    "### 3.4 Check where the module is being Imported from"
   ]
  },
  {
   "cell_type": "markdown",
   "metadata": {},
   "source": [
    "If we are not sure what type of module we are dealing with, we can use the `__file__` attribute to check where the module is stored."
   ]
  },
  {
   "cell_type": "markdown",
   "metadata": {},
   "source": [
    "#### 3.4.1 Type 1"
   ]
  },
  {
   "cell_type": "markdown",
   "metadata": {},
   "source": [
    "Let's first check `module_v1`. Like we have seen before, this is a __type 1__ module. "
   ]
  },
  {
   "cell_type": "code",
   "execution_count": 34,
   "metadata": {},
   "outputs": [],
   "source": [
    "import module_v1"
   ]
  },
  {
   "cell_type": "code",
   "execution_count": 35,
   "metadata": {},
   "outputs": [
    {
     "data": {
      "text/plain": [
       "'Week 8/SLU14/module_v1.py'"
      ]
     },
     "execution_count": 35,
     "metadata": {},
     "output_type": "execute_result"
    }
   ],
   "source": [
    "path = module_v1.__file__ #try to print the path variable \n",
    "\"/\".join(path.split(\"/\")[-3:]) #this is to ignore the path to Week 8 folder"
   ]
  },
  {
   "cell_type": "markdown",
   "metadata": {},
   "source": [
    "The relative directory of the module is the folder we are currently working on.   \n",
    "The `path` (i.e. the absolute path), should be something close to `.../ds-prep-course-workspace/Week 9/module_v1.py`"
   ]
  },
  {
   "cell_type": "markdown",
   "metadata": {},
   "source": [
    "If we check the directory of the file we are working on, we have the confirmation that this module belongs to the directory of our current file."
   ]
  },
  {
   "cell_type": "markdown",
   "metadata": {},
   "source": [
    "#### 3.4.2 Type 2"
   ]
  },
  {
   "cell_type": "markdown",
   "metadata": {},
   "source": [
    "The second type of modules are the ones that are stored on `PYTHONPATH`. This type includes the ones that we manage with pip using the command line.    \n",
    "__note 1:__ Every time we do `pip install -r requirements.txt`, we are installing in our environment the packages (and respective modules) that are specified in the requirements file. We can also install a package using its name, with `pip install <package name>`.    \n",
    "__note 2:__ Packages in python are folders with modules, we will look at this in more detail in the following sections."
   ]
  },
  {
   "cell_type": "markdown",
   "metadata": {},
   "source": [
    "Let's use the numpy package as an example."
   ]
  },
  {
   "cell_type": "markdown",
   "metadata": {},
   "source": [
    "One of the many modules that package `numpy` has is the `polynomial` module:"
   ]
  },
  {
   "cell_type": "code",
   "execution_count": 36,
   "metadata": {},
   "outputs": [],
   "source": [
    "from numpy import polynomial"
   ]
  },
  {
   "cell_type": "code",
   "execution_count": 37,
   "metadata": {},
   "outputs": [
    {
     "data": {
      "text/plain": [
       "'.virtualenvs/prep-venv/lib/python3.7/site-packages/numpy/polynomial/__init__.py'"
      ]
     },
     "execution_count": 37,
     "metadata": {},
     "output_type": "execute_result"
    }
   ],
   "source": [
    "path = polynomial.__file__ #try to print the path variable \n",
    "\"/\".join(path.split(\"/\")[-8:])  #this is to ignore the path to .virtualenvs"
   ]
  },
  {
   "cell_type": "markdown",
   "metadata": {},
   "source": [
    "Polynomial module belongs to the parent directory where virtual environment `prep-venv` is located.   \n",
    "The `path` (i.e. the absolute path), should be something close to `home/user/.virtualenvs/prep-venv/lib/python/site-packages/polynomial/__init__.py`"
   ]
  },
  {
   "cell_type": "markdown",
   "metadata": {},
   "source": [
    "#### 3.4.3 Type 3"
   ]
  },
  {
   "cell_type": "markdown",
   "metadata": {},
   "source": [
    "The last type of modules are the ones that already come with the current python version. We don't need to have them in our current directory or store them on our python environment. They are stored inside the directory of our python version."
   ]
  },
  {
   "cell_type": "markdown",
   "metadata": {},
   "source": [
    "One example is the `json` package:"
   ]
  },
  {
   "cell_type": "code",
   "execution_count": 7,
   "metadata": {},
   "outputs": [],
   "source": [
    "import json"
   ]
  },
  {
   "cell_type": "code",
   "execution_count": 9,
   "metadata": {},
   "outputs": [
    {
     "data": {
      "text/plain": [
       "'lib/python3.7/json/__init__.py'"
      ]
     },
     "execution_count": 9,
     "metadata": {},
     "output_type": "execute_result"
    }
   ],
   "source": [
    "path = json.__file__ #try to print the path variable \n",
    "relative_path = \"/\".join(path.split(\"/\")[-4:])   \n",
    "relative_path  #this is to ignore the path to lib"
   ]
  },
  {
   "cell_type": "markdown",
   "metadata": {},
   "source": [
    "The module belongs to the parent directory where python 3.7 is located.   \n",
    "The `path` (i.e. the absolute path), should be something close to `home/user/lib/python/json/__init__.py`."
   ]
  },
  {
   "cell_type": "markdown",
   "metadata": {},
   "source": [
    "### 3.5 Check the attributes of a module"
   ]
  },
  {
   "cell_type": "code",
   "execution_count": 40,
   "metadata": {},
   "outputs": [],
   "source": [
    "import module_v1"
   ]
  },
  {
   "cell_type": "markdown",
   "metadata": {},
   "source": [
    "If we want to check what attributes (classes, functions or variables) a module has, we can use the `dir` function."
   ]
  },
  {
   "cell_type": "markdown",
   "metadata": {},
   "source": [
    "It can be very handy when we want to debug a project. "
   ]
  },
  {
   "cell_type": "markdown",
   "metadata": {},
   "source": [
    "Let's check `module_v1`."
   ]
  },
  {
   "cell_type": "code",
   "execution_count": 41,
   "metadata": {},
   "outputs": [
    {
     "data": {
      "text/plain": [
       "['House',\n",
       " '__builtins__',\n",
       " '__cached__',\n",
       " '__doc__',\n",
       " '__file__',\n",
       " '__loader__',\n",
       " '__name__',\n",
       " '__package__',\n",
       " '__spec__',\n",
       " 'avg_price',\n",
       " 'location']"
      ]
     },
     "execution_count": 41,
     "metadata": {},
     "output_type": "execute_result"
    }
   ],
   "source": [
    "dir(module_v1)"
   ]
  },
  {
   "cell_type": "markdown",
   "metadata": {},
   "source": [
    "We now have a list of every attribute that __module_v1__ has. We can see that there are more attributes that the ones that are set on the code. Those attributes are automatically set for every python file, and we already saw one of them: the `__file__` attribute."
   ]
  },
  {
   "cell_type": "markdown",
   "metadata": {},
   "source": [
    "### 3.6 Executing modules as scripts"
   ]
  },
  {
   "cell_type": "markdown",
   "metadata": {},
   "source": [
    "Until now we were importing and using attributes defined inside some python files (with the `.py`extension) on other python files. But we can also run modules as standalone files, like scripts. "
   ]
  },
  {
   "cell_type": "code",
   "execution_count": 42,
   "metadata": {},
   "outputs": [],
   "source": [
    "import module_v4"
   ]
  },
  {
   "cell_type": "markdown",
   "metadata": {},
   "source": [
    "Let's see first what is inside `module_v4.py` file with the help of the unix cat command."
   ]
  },
  {
   "cell_type": "code",
   "execution_count": 43,
   "metadata": {},
   "outputs": [
    {
     "name": "stdout",
     "output_type": "stream",
     "text": [
      "import numpy as np\r\n",
      "\r\n",
      "class House:\r\n",
      "\r\n",
      "    def __init__(self, price, area, location):\r\n",
      "        self.price = price\r\n",
      "        self.area = area\r\n",
      "        self.location = location\r\n",
      "\r\n",
      "    def calculate_price_square_meter(self):\r\n",
      "        return self.price/self.area\r\n",
      "\r\n",
      "def avg_price(list_houses, location):\r\n",
      "    count = 0\r\n",
      "    sum_price = 0\r\n",
      "    for house in list_houses:\r\n",
      "        if house.location == location:\r\n",
      "            count+=1\r\n",
      "            sum_price+=house.calculate_price_square_meter()\r\n",
      "    return sum_price/count\r\n",
      "\r\n",
      "location = \"Coimbra\"  \r\n",
      "\r\n",
      "if __name__ == \"__main__\":\r\n",
      "    \r\n",
      "    array_houses_coimbra = np.array([[150000, 200],\r\n",
      "                                     [120000, 150], \r\n",
      "                                     [100000, 100],\r\n",
      "                                     [250000, 250],\r\n",
      "                                     [175000, 200]])   \r\n",
      "    \r\n",
      "    list_houses = []\r\n",
      "\r\n",
      "    for i in array_houses_coimbra:\r\n",
      "        price = i[0]\r\n",
      "        area = i[1]\r\n",
      "        list_houses.append(House(price, area, location))\r\n",
      "    \r\n",
      "    avg_price_coimbra = avg_price(list_houses, location)\r\n",
      "\r\n",
      "    print(\"Average price of houses in Coimbra per square meter is {}\".format(avg_price_coimbra))\r\n"
     ]
    }
   ],
   "source": [
    "# the following unix command prints the content that is inside the module_v4 file\n",
    "!cat module_v4.py"
   ]
  },
  {
   "cell_type": "markdown",
   "metadata": {},
   "source": [
    "Let's use the attribute `__name__` to see what is the namespace of our `module_v4`."
   ]
  },
  {
   "cell_type": "code",
   "execution_count": 44,
   "metadata": {},
   "outputs": [
    {
     "data": {
      "text/plain": [
       "'module_v4'"
      ]
     },
     "execution_count": 44,
     "metadata": {},
     "output_type": "execute_result"
    }
   ],
   "source": [
    "module_v4.__name__"
   ]
  },
  {
   "cell_type": "markdown",
   "metadata": {},
   "source": [
    "What happens here is when we use attributes outside the file, the value of attribute `__name__` is the namespace of the module, but, if we run it as a script, the value changes to `__main__`.   \n",
    "\n",
    "This means that anything inside `if __name__ == \"__main__\"`, which is the entry point, will only be executed if we run it as a script."
   ]
  },
  {
   "cell_type": "markdown",
   "metadata": {},
   "source": [
    "In order to execute it as a script, we can use the following unix command."
   ]
  },
  {
   "cell_type": "code",
   "execution_count": 45,
   "metadata": {},
   "outputs": [
    {
     "name": "stdout",
     "output_type": "stream",
     "text": [
      "Average price of houses in Coimbra per square meter is 885.0\r\n"
     ]
    }
   ],
   "source": [
    "!python module_v4.py"
   ]
  },
  {
   "cell_type": "markdown",
   "metadata": {},
   "source": [
    "As we can see from the output above, the python module was run as a script, including what was inside the `if __name__ == \"__main__\"` block. This block **is not run** when we import attributes from this file."
   ]
  },
  {
   "cell_type": "markdown",
   "metadata": {},
   "source": [
    "## 4 Packages in Python"
   ]
  },
  {
   "cell_type": "markdown",
   "metadata": {},
   "source": [
    "### 4.1 Definition"
   ]
  },
  {
   "cell_type": "markdown",
   "metadata": {},
   "source": [
    "Packages in python are namespaces (directories), that contain modules.    \n",
    "We can also have a package of packages."
   ]
  },
  {
   "cell_type": "markdown",
   "metadata": {},
   "source": [
    "These packages can be installed in a python environment, with `pip` managment system, or stored in the directory of your project."
   ]
  },
  {
   "cell_type": "markdown",
   "metadata": {},
   "source": [
    "In this current directory, we have a package named `shapes`. It has two modules inside, `square` and `circle`."
   ]
  },
  {
   "cell_type": "code",
   "execution_count": 46,
   "metadata": {},
   "outputs": [
    {
     "name": "stdout",
     "output_type": "stream",
     "text": [
      "\u001b[01;34mshapes\u001b[00m\r\n",
      "├── circle.py\r\n",
      "├── __init__.py\r\n",
      "├── LICENSE\r\n",
      "├── README.md\r\n",
      "├── setup.py\r\n",
      "└── square.py\r\n",
      "\r\n",
      "0 directories, 6 files\r\n"
     ]
    }
   ],
   "source": [
    "# unix command that shows the content inside shapes directory\n",
    "!tree shapes"
   ]
  },
  {
   "cell_type": "markdown",
   "metadata": {},
   "source": [
    "As we can see, we have more files, other than the module files. We will cover those files in the following section."
   ]
  },
  {
   "cell_type": "markdown",
   "metadata": {},
   "source": [
    "### 4.2 Package Files"
   ]
  },
  {
   "cell_type": "markdown",
   "metadata": {},
   "source": [
    "What distinguish a python package from an ordinary folder is an `__init__.py` file inside of the correspondent directory of the package. It can be empty, but this file tells python that we are looking at a package. We can import it the same way we import a module."
   ]
  },
  {
   "cell_type": "markdown",
   "metadata": {},
   "source": [
    "Let's look at our `shapes` folder. It is stored in the same directory as this notebook."
   ]
  },
  {
   "cell_type": "markdown",
   "metadata": {},
   "source": [
    "As said before, in order for a directory to be seen as a package, we need an `__init__.py` file.   \n",
    "There are some other files that are normally added to packages, like: `setup.py`, `README.md` and `LICENSE`, but these are not mandatory.   "
   ]
  },
  {
   "cell_type": "markdown",
   "metadata": {},
   "source": [
    "`setup.py` imports [setuptools](https://pypi.org/project/setuptools/), a package that enables us to build our python package. Using the `setup` attribute from this package, we can specify information like the name of our package, version, author, description, packages used and so on. This file, with this information, is needed if we want to build our python package and share it with the world.   \n",
    "Let's see what is inside `setup.py`."
   ]
  },
  {
   "cell_type": "code",
   "execution_count": 47,
   "metadata": {},
   "outputs": [
    {
     "name": "stdout",
     "output_type": "stream",
     "text": [
      "import setuptools\r\n",
      "\r\n",
      "with open(\"README.md\", \"r\") as fh:\r\n",
      "    long_description = fh.read()\r\n",
      "\r\n",
      "setuptools.setup(\r\n",
      "    name=\"shapes\", \r\n",
      "    version=\"1.0.0\",\r\n",
      "    author=\"ldssa\",\r\n",
      "    author_email=\"ldssa@ldssa\",\r\n",
      "    description=\"modules that represent shapes\",\r\n",
      "    long_description=long_description,\r\n",
      "    long_description_content_type=\"text/markdown\",\r\n",
      "    url=\"https://github.com/LDSSA/ds-prep-course\",\r\n",
      "    packages=setuptools.find_packages(),\r\n",
      "    classifiers=[\r\n",
      "        \"Programming Language :: Python :: 3\",\r\n",
      "        \"License :: OSI Approved :: MIT License\",\r\n",
      "        \"Operating System :: OS Independent\",\r\n",
      "    ],\r\n",
      "    python_requires='>=3.7',\r\n",
      ")\r\n"
     ]
    }
   ],
   "source": [
    "!cat shapes/setup.py"
   ]
  },
  {
   "cell_type": "markdown",
   "metadata": {},
   "source": [
    "We can also add a `README.md`. We are already familiar with this kind of file. This is a markdown file that should have information to guide people that want to use our package. "
   ]
  },
  {
   "cell_type": "markdown",
   "metadata": {},
   "source": [
    "The `LICENSE` file is important if we want to share our package with the world. Build and upload it to [Python Package Index](https://pypi.org/), the place where all the packages that we can install by doing `pip install <package name>` are stored. This file tells people the terms of usage that they should follow when using this package in their code."
   ]
  },
  {
   "cell_type": "markdown",
   "metadata": {},
   "source": [
    "This notebook doesn't cover how to build and upload our packages to PyPI. If you are interested in this, you can follow [this](https://packaging.python.org/tutorials/packaging-projects/) tutorial.    \n",
    "If you only want to install it in your own environments, [this](https://dev.to/umeshdhakar/how-to-create-and-publish-python-package-62o) article also helps you with that."
   ]
  },
  {
   "cell_type": "markdown",
   "metadata": {},
   "source": [
    "### 4.1 Installing packages on our environments"
   ]
  },
  {
   "cell_type": "markdown",
   "metadata": {},
   "source": [
    "We have seen `pip` a lot. It enables us to manage packages in our python environments (install, update, delete...). "
   ]
  },
  {
   "cell_type": "markdown",
   "metadata": {},
   "source": [
    "In order to install packages that are indexed on PyPI, we can use the following unix command:    \n",
    "`pip install <package namespace>`    \n",
    "\n",
    "When we execute this command, pip will search on PyPI for a package that matches the namespace.    "
   ]
  },
  {
   "cell_type": "markdown",
   "metadata": {},
   "source": [
    "We can also install packages in batches by using a `requirements` file. You are already familiar with the unix command to do that, you run it every week.   \n",
    "`pip install -r requirements.txt`"
   ]
  },
  {
   "cell_type": "markdown",
   "metadata": {},
   "source": [
    "Let's see how this week's `requirements.txt` file looks like."
   ]
  },
  {
   "cell_type": "code",
   "execution_count": 48,
   "metadata": {},
   "outputs": [
    {
     "name": "stdout",
     "output_type": "stream",
     "text": [
      "nbgrader==0.6.1\r\n",
      "matplotlib==3.1.2\r\n",
      "numpy==1.18\r\n"
     ]
    }
   ],
   "source": [
    "!cat requirements.txt"
   ]
  },
  {
   "cell_type": "markdown",
   "metadata": {},
   "source": [
    "It has the namespace of each package we want to install and also the version. `pip` will search for it on the `PyPI` hub."
   ]
  },
  {
   "cell_type": "markdown",
   "metadata": {},
   "source": [
    "If we want to install our private package in an environment, we can install it by doing:   \n",
    "`pip install <package path>`"
   ]
  },
  {
   "cell_type": "markdown",
   "metadata": {},
   "source": [
    "### 4.1 Using modules from packages on our code"
   ]
  },
  {
   "cell_type": "markdown",
   "metadata": {},
   "source": [
    "Modules from packages can be imported following the same logic as modules inside folders. "
   ]
  },
  {
   "cell_type": "markdown",
   "metadata": {},
   "source": [
    "As an example of this analogy, instead of doing:    \n",
    "\n",
    "`from <folder name> import <module name>`   \n",
    "\n",
    "We should do:   \n",
    "\n",
    "`from <package name> import <module name>`"
   ]
  },
  {
   "cell_type": "markdown",
   "metadata": {},
   "source": [
    "Let's use as an example package `shapes`, stored on our directory."
   ]
  },
  {
   "cell_type": "code",
   "execution_count": 49,
   "metadata": {},
   "outputs": [],
   "source": [
    "from shapes import circle"
   ]
  },
  {
   "cell_type": "code",
   "execution_count": 50,
   "metadata": {},
   "outputs": [
    {
     "data": {
      "text/plain": [
       "9.934588265796101"
      ]
     },
     "execution_count": 50,
     "metadata": {},
     "output_type": "execute_result"
    }
   ],
   "source": [
    "this_circle = circle.Circle(10)\n",
    "this_circle.get_area()"
   ]
  },
  {
   "cell_type": "markdown",
   "metadata": {},
   "source": [
    "Or we can also import in the following way:"
   ]
  },
  {
   "cell_type": "code",
   "execution_count": 51,
   "metadata": {},
   "outputs": [],
   "source": [
    "from shapes.circle import Circle"
   ]
  },
  {
   "cell_type": "code",
   "execution_count": 52,
   "metadata": {},
   "outputs": [
    {
     "data": {
      "text/plain": [
       "9.934588265796101"
      ]
     },
     "execution_count": 52,
     "metadata": {},
     "output_type": "execute_result"
    }
   ],
   "source": [
    "this_circle = Circle(10)\n",
    "this_circle.get_area()"
   ]
  },
  {
   "cell_type": "markdown",
   "metadata": {},
   "source": [
    "Let's go back to the `numpy` package, that was installed with `pip` from a `PyPI` location."
   ]
  },
  {
   "cell_type": "code",
   "execution_count": 53,
   "metadata": {},
   "outputs": [],
   "source": [
    "from numpy import polynomial"
   ]
  },
  {
   "cell_type": "markdown",
   "metadata": {},
   "source": [
    "`numpy` is the package namespace and `polynomial` is a module that belongs to this package."
   ]
  },
  {
   "cell_type": "markdown",
   "metadata": {},
   "source": [
    "## Recap"
   ]
  },
  {
   "cell_type": "markdown",
   "metadata": {},
   "source": [
    "Modules in python are `.py` files.     \n",
    "Modules can be imported by other python files so they can use their attributes.       \n",
    "Packages are a set of modules dedicated to a single functionality.   \n",
    "There are a lot of packages available on `PyPI` that we can use in our code.    \n",
    "We can install packages in our environments with `pip`."
   ]
  },
  {
   "cell_type": "markdown",
   "metadata": {},
   "source": [
    "Hopefully we learned, in this SLU, how to keep our projects organized, scalable, and easy to maintain, as well as how to use attributes from external sources. We don't need to reinvent the wheel, there are a lot of good packages out there that we can make use of."
   ]
  },
  {
   "cell_type": "markdown",
   "metadata": {},
   "source": [
    "## Further Reading"
   ]
  },
  {
   "cell_type": "markdown",
   "metadata": {},
   "source": [
    "[Pyhton Modules and Packages-Real Python](https://realpython.com/python-modules-packages/)   \n",
    "[Python Packages-Askpython](https://www.askpython.com/python/python-packages)   \n",
    "[Packaging Projects-Packaging Python](https://packaging.python.org/tutorials/packaging-projects/)   \n",
    "[Project Structure and Imports-dev](https://dev.to/codemouse92/dead-simple-python-project-structure-and-imports-38c6)"
   ]
  }
 ],
 "metadata": {
  "kernelspec": {
   "display_name": "Python 3",
   "language": "python",
   "name": "python3"
  },
  "language_info": {
   "codemirror_mode": {
    "name": "ipython",
    "version": 3
   },
   "file_extension": ".py",
   "mimetype": "text/x-python",
   "name": "python",
   "nbconvert_exporter": "python",
   "pygments_lexer": "ipython3",
   "version": "3.7.3"
  }
 },
 "nbformat": 4,
 "nbformat_minor": 2
}
